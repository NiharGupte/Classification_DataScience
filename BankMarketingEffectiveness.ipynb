{
  "cells": [
    {
      "cell_type": "code",
      "execution_count": 1,
      "metadata": {
        "colab": {
          "base_uri": "https://localhost:8080/"
        },
        "id": "nXe9qUrH0Dgs",
        "outputId": "9d6c66e9-0e05-45e5-9a93-39fd7d6f8b30"
      },
      "outputs": [
        {
          "output_type": "stream",
          "name": "stdout",
          "text": [
            "Downloading...\n",
            "From: https://drive.google.com/uc?id=1pajABxMtZHAKvFczZEiZXSe8ZAQCMJto\n",
            "To: /content/ML_datasets-20230809T102746Z-001.zip\n",
            "\r  0% 0.00/5.64M [00:00<?, ?B/s]\r100% 5.64M/5.64M [00:00<00:00, 182MB/s]\n"
          ]
        }
      ],
      "source": [
        "!gdown 1pajABxMtZHAKvFczZEiZXSe8ZAQCMJto"
      ]
    },
    {
      "cell_type": "code",
      "execution_count": 2,
      "metadata": {
        "colab": {
          "base_uri": "https://localhost:8080/"
        },
        "id": "bvpvl8Kk4pvB",
        "outputId": "9d9fc0d9-a270-4c71-e18a-5ad3e01df46c"
      },
      "outputs": [
        {
          "output_type": "stream",
          "name": "stdout",
          "text": [
            "Archive:  /content/ML_datasets-20230809T102746Z-001.zip\n",
            "  inflating: ML_datasets/bank-full.csv  \n",
            "  inflating: ML_datasets/historical_data.csv  \n"
          ]
        }
      ],
      "source": [
        "!unzip /content/ML_datasets-20230809T102746Z-001.zip"
      ]
    },
    {
      "cell_type": "markdown",
      "metadata": {
        "id": "o6PcaoU936Wg"
      },
      "source": [
        "# Exploratory Data Analysis"
      ]
    },
    {
      "cell_type": "markdown",
      "metadata": {
        "id": "qxl9cWusa38X"
      },
      "source": [
        "## Reading CSV File"
      ]
    },
    {
      "cell_type": "code",
      "execution_count": 3,
      "metadata": {
        "colab": {
          "base_uri": "https://localhost:8080/",
          "height": 487
        },
        "id": "6BxlXHRv2Ao5",
        "outputId": "6d996fab-6b80-4cf9-d269-c9129aed3310"
      },
      "outputs": [
        {
          "output_type": "execute_result",
          "data": {
            "text/plain": [
              "       age           job   marital  education default  balance housing loan  \\\n",
              "0       58    management   married   tertiary      no     2143     yes   no   \n",
              "1       44    technician    single  secondary      no       29     yes   no   \n",
              "2       33  entrepreneur   married  secondary      no        2     yes  yes   \n",
              "3       47   blue-collar   married    unknown      no     1506     yes   no   \n",
              "4       33       unknown    single    unknown      no        1      no   no   \n",
              "...    ...           ...       ...        ...     ...      ...     ...  ...   \n",
              "45206   51    technician   married   tertiary      no      825      no   no   \n",
              "45207   71       retired  divorced    primary      no     1729      no   no   \n",
              "45208   72       retired   married  secondary      no     5715      no   no   \n",
              "45209   57   blue-collar   married  secondary      no      668      no   no   \n",
              "45210   37  entrepreneur   married  secondary      no     2971      no   no   \n",
              "\n",
              "         contact  day month  duration  campaign  pdays  previous poutcome    y  \n",
              "0        unknown    5   may       261         1     -1         0  unknown   no  \n",
              "1        unknown    5   may       151         1     -1         0  unknown   no  \n",
              "2        unknown    5   may        76         1     -1         0  unknown   no  \n",
              "3        unknown    5   may        92         1     -1         0  unknown   no  \n",
              "4        unknown    5   may       198         1     -1         0  unknown   no  \n",
              "...          ...  ...   ...       ...       ...    ...       ...      ...  ...  \n",
              "45206   cellular   17   nov       977         3     -1         0  unknown  yes  \n",
              "45207   cellular   17   nov       456         2     -1         0  unknown  yes  \n",
              "45208   cellular   17   nov      1127         5    184         3  success  yes  \n",
              "45209  telephone   17   nov       508         4     -1         0  unknown   no  \n",
              "45210   cellular   17   nov       361         2    188        11    other   no  \n",
              "\n",
              "[45211 rows x 17 columns]"
            ],
            "text/html": [
              "\n",
              "\n",
              "  <div id=\"df-7166e319-5c14-4ae2-83c3-db8384f08d8d\">\n",
              "    <div class=\"colab-df-container\">\n",
              "      <div>\n",
              "<style scoped>\n",
              "    .dataframe tbody tr th:only-of-type {\n",
              "        vertical-align: middle;\n",
              "    }\n",
              "\n",
              "    .dataframe tbody tr th {\n",
              "        vertical-align: top;\n",
              "    }\n",
              "\n",
              "    .dataframe thead th {\n",
              "        text-align: right;\n",
              "    }\n",
              "</style>\n",
              "<table border=\"1\" class=\"dataframe\">\n",
              "  <thead>\n",
              "    <tr style=\"text-align: right;\">\n",
              "      <th></th>\n",
              "      <th>age</th>\n",
              "      <th>job</th>\n",
              "      <th>marital</th>\n",
              "      <th>education</th>\n",
              "      <th>default</th>\n",
              "      <th>balance</th>\n",
              "      <th>housing</th>\n",
              "      <th>loan</th>\n",
              "      <th>contact</th>\n",
              "      <th>day</th>\n",
              "      <th>month</th>\n",
              "      <th>duration</th>\n",
              "      <th>campaign</th>\n",
              "      <th>pdays</th>\n",
              "      <th>previous</th>\n",
              "      <th>poutcome</th>\n",
              "      <th>y</th>\n",
              "    </tr>\n",
              "  </thead>\n",
              "  <tbody>\n",
              "    <tr>\n",
              "      <th>0</th>\n",
              "      <td>58</td>\n",
              "      <td>management</td>\n",
              "      <td>married</td>\n",
              "      <td>tertiary</td>\n",
              "      <td>no</td>\n",
              "      <td>2143</td>\n",
              "      <td>yes</td>\n",
              "      <td>no</td>\n",
              "      <td>unknown</td>\n",
              "      <td>5</td>\n",
              "      <td>may</td>\n",
              "      <td>261</td>\n",
              "      <td>1</td>\n",
              "      <td>-1</td>\n",
              "      <td>0</td>\n",
              "      <td>unknown</td>\n",
              "      <td>no</td>\n",
              "    </tr>\n",
              "    <tr>\n",
              "      <th>1</th>\n",
              "      <td>44</td>\n",
              "      <td>technician</td>\n",
              "      <td>single</td>\n",
              "      <td>secondary</td>\n",
              "      <td>no</td>\n",
              "      <td>29</td>\n",
              "      <td>yes</td>\n",
              "      <td>no</td>\n",
              "      <td>unknown</td>\n",
              "      <td>5</td>\n",
              "      <td>may</td>\n",
              "      <td>151</td>\n",
              "      <td>1</td>\n",
              "      <td>-1</td>\n",
              "      <td>0</td>\n",
              "      <td>unknown</td>\n",
              "      <td>no</td>\n",
              "    </tr>\n",
              "    <tr>\n",
              "      <th>2</th>\n",
              "      <td>33</td>\n",
              "      <td>entrepreneur</td>\n",
              "      <td>married</td>\n",
              "      <td>secondary</td>\n",
              "      <td>no</td>\n",
              "      <td>2</td>\n",
              "      <td>yes</td>\n",
              "      <td>yes</td>\n",
              "      <td>unknown</td>\n",
              "      <td>5</td>\n",
              "      <td>may</td>\n",
              "      <td>76</td>\n",
              "      <td>1</td>\n",
              "      <td>-1</td>\n",
              "      <td>0</td>\n",
              "      <td>unknown</td>\n",
              "      <td>no</td>\n",
              "    </tr>\n",
              "    <tr>\n",
              "      <th>3</th>\n",
              "      <td>47</td>\n",
              "      <td>blue-collar</td>\n",
              "      <td>married</td>\n",
              "      <td>unknown</td>\n",
              "      <td>no</td>\n",
              "      <td>1506</td>\n",
              "      <td>yes</td>\n",
              "      <td>no</td>\n",
              "      <td>unknown</td>\n",
              "      <td>5</td>\n",
              "      <td>may</td>\n",
              "      <td>92</td>\n",
              "      <td>1</td>\n",
              "      <td>-1</td>\n",
              "      <td>0</td>\n",
              "      <td>unknown</td>\n",
              "      <td>no</td>\n",
              "    </tr>\n",
              "    <tr>\n",
              "      <th>4</th>\n",
              "      <td>33</td>\n",
              "      <td>unknown</td>\n",
              "      <td>single</td>\n",
              "      <td>unknown</td>\n",
              "      <td>no</td>\n",
              "      <td>1</td>\n",
              "      <td>no</td>\n",
              "      <td>no</td>\n",
              "      <td>unknown</td>\n",
              "      <td>5</td>\n",
              "      <td>may</td>\n",
              "      <td>198</td>\n",
              "      <td>1</td>\n",
              "      <td>-1</td>\n",
              "      <td>0</td>\n",
              "      <td>unknown</td>\n",
              "      <td>no</td>\n",
              "    </tr>\n",
              "    <tr>\n",
              "      <th>...</th>\n",
              "      <td>...</td>\n",
              "      <td>...</td>\n",
              "      <td>...</td>\n",
              "      <td>...</td>\n",
              "      <td>...</td>\n",
              "      <td>...</td>\n",
              "      <td>...</td>\n",
              "      <td>...</td>\n",
              "      <td>...</td>\n",
              "      <td>...</td>\n",
              "      <td>...</td>\n",
              "      <td>...</td>\n",
              "      <td>...</td>\n",
              "      <td>...</td>\n",
              "      <td>...</td>\n",
              "      <td>...</td>\n",
              "      <td>...</td>\n",
              "    </tr>\n",
              "    <tr>\n",
              "      <th>45206</th>\n",
              "      <td>51</td>\n",
              "      <td>technician</td>\n",
              "      <td>married</td>\n",
              "      <td>tertiary</td>\n",
              "      <td>no</td>\n",
              "      <td>825</td>\n",
              "      <td>no</td>\n",
              "      <td>no</td>\n",
              "      <td>cellular</td>\n",
              "      <td>17</td>\n",
              "      <td>nov</td>\n",
              "      <td>977</td>\n",
              "      <td>3</td>\n",
              "      <td>-1</td>\n",
              "      <td>0</td>\n",
              "      <td>unknown</td>\n",
              "      <td>yes</td>\n",
              "    </tr>\n",
              "    <tr>\n",
              "      <th>45207</th>\n",
              "      <td>71</td>\n",
              "      <td>retired</td>\n",
              "      <td>divorced</td>\n",
              "      <td>primary</td>\n",
              "      <td>no</td>\n",
              "      <td>1729</td>\n",
              "      <td>no</td>\n",
              "      <td>no</td>\n",
              "      <td>cellular</td>\n",
              "      <td>17</td>\n",
              "      <td>nov</td>\n",
              "      <td>456</td>\n",
              "      <td>2</td>\n",
              "      <td>-1</td>\n",
              "      <td>0</td>\n",
              "      <td>unknown</td>\n",
              "      <td>yes</td>\n",
              "    </tr>\n",
              "    <tr>\n",
              "      <th>45208</th>\n",
              "      <td>72</td>\n",
              "      <td>retired</td>\n",
              "      <td>married</td>\n",
              "      <td>secondary</td>\n",
              "      <td>no</td>\n",
              "      <td>5715</td>\n",
              "      <td>no</td>\n",
              "      <td>no</td>\n",
              "      <td>cellular</td>\n",
              "      <td>17</td>\n",
              "      <td>nov</td>\n",
              "      <td>1127</td>\n",
              "      <td>5</td>\n",
              "      <td>184</td>\n",
              "      <td>3</td>\n",
              "      <td>success</td>\n",
              "      <td>yes</td>\n",
              "    </tr>\n",
              "    <tr>\n",
              "      <th>45209</th>\n",
              "      <td>57</td>\n",
              "      <td>blue-collar</td>\n",
              "      <td>married</td>\n",
              "      <td>secondary</td>\n",
              "      <td>no</td>\n",
              "      <td>668</td>\n",
              "      <td>no</td>\n",
              "      <td>no</td>\n",
              "      <td>telephone</td>\n",
              "      <td>17</td>\n",
              "      <td>nov</td>\n",
              "      <td>508</td>\n",
              "      <td>4</td>\n",
              "      <td>-1</td>\n",
              "      <td>0</td>\n",
              "      <td>unknown</td>\n",
              "      <td>no</td>\n",
              "    </tr>\n",
              "    <tr>\n",
              "      <th>45210</th>\n",
              "      <td>37</td>\n",
              "      <td>entrepreneur</td>\n",
              "      <td>married</td>\n",
              "      <td>secondary</td>\n",
              "      <td>no</td>\n",
              "      <td>2971</td>\n",
              "      <td>no</td>\n",
              "      <td>no</td>\n",
              "      <td>cellular</td>\n",
              "      <td>17</td>\n",
              "      <td>nov</td>\n",
              "      <td>361</td>\n",
              "      <td>2</td>\n",
              "      <td>188</td>\n",
              "      <td>11</td>\n",
              "      <td>other</td>\n",
              "      <td>no</td>\n",
              "    </tr>\n",
              "  </tbody>\n",
              "</table>\n",
              "<p>45211 rows × 17 columns</p>\n",
              "</div>\n",
              "      <button class=\"colab-df-convert\" onclick=\"convertToInteractive('df-7166e319-5c14-4ae2-83c3-db8384f08d8d')\"\n",
              "              title=\"Convert this dataframe to an interactive table.\"\n",
              "              style=\"display:none;\">\n",
              "\n",
              "  <svg xmlns=\"http://www.w3.org/2000/svg\" height=\"24px\"viewBox=\"0 0 24 24\"\n",
              "       width=\"24px\">\n",
              "    <path d=\"M0 0h24v24H0V0z\" fill=\"none\"/>\n",
              "    <path d=\"M18.56 5.44l.94 2.06.94-2.06 2.06-.94-2.06-.94-.94-2.06-.94 2.06-2.06.94zm-11 1L8.5 8.5l.94-2.06 2.06-.94-2.06-.94L8.5 2.5l-.94 2.06-2.06.94zm10 10l.94 2.06.94-2.06 2.06-.94-2.06-.94-.94-2.06-.94 2.06-2.06.94z\"/><path d=\"M17.41 7.96l-1.37-1.37c-.4-.4-.92-.59-1.43-.59-.52 0-1.04.2-1.43.59L10.3 9.45l-7.72 7.72c-.78.78-.78 2.05 0 2.83L4 21.41c.39.39.9.59 1.41.59.51 0 1.02-.2 1.41-.59l7.78-7.78 2.81-2.81c.8-.78.8-2.07 0-2.86zM5.41 20L4 18.59l7.72-7.72 1.47 1.35L5.41 20z\"/>\n",
              "  </svg>\n",
              "      </button>\n",
              "\n",
              "\n",
              "\n",
              "    <div id=\"df-de2c82c5-9a2d-41d4-91f4-9a823ca5bd75\">\n",
              "      <button class=\"colab-df-quickchart\" onclick=\"quickchart('df-de2c82c5-9a2d-41d4-91f4-9a823ca5bd75')\"\n",
              "              title=\"Suggest charts.\"\n",
              "              style=\"display:none;\">\n",
              "\n",
              "<svg xmlns=\"http://www.w3.org/2000/svg\" height=\"24px\"viewBox=\"0 0 24 24\"\n",
              "     width=\"24px\">\n",
              "    <g>\n",
              "        <path d=\"M19 3H5c-1.1 0-2 .9-2 2v14c0 1.1.9 2 2 2h14c1.1 0 2-.9 2-2V5c0-1.1-.9-2-2-2zM9 17H7v-7h2v7zm4 0h-2V7h2v10zm4 0h-2v-4h2v4z\"/>\n",
              "    </g>\n",
              "</svg>\n",
              "      </button>\n",
              "    </div>\n",
              "\n",
              "<style>\n",
              "  .colab-df-quickchart {\n",
              "    background-color: #E8F0FE;\n",
              "    border: none;\n",
              "    border-radius: 50%;\n",
              "    cursor: pointer;\n",
              "    display: none;\n",
              "    fill: #1967D2;\n",
              "    height: 32px;\n",
              "    padding: 0 0 0 0;\n",
              "    width: 32px;\n",
              "  }\n",
              "\n",
              "  .colab-df-quickchart:hover {\n",
              "    background-color: #E2EBFA;\n",
              "    box-shadow: 0px 1px 2px rgba(60, 64, 67, 0.3), 0px 1px 3px 1px rgba(60, 64, 67, 0.15);\n",
              "    fill: #174EA6;\n",
              "  }\n",
              "\n",
              "  [theme=dark] .colab-df-quickchart {\n",
              "    background-color: #3B4455;\n",
              "    fill: #D2E3FC;\n",
              "  }\n",
              "\n",
              "  [theme=dark] .colab-df-quickchart:hover {\n",
              "    background-color: #434B5C;\n",
              "    box-shadow: 0px 1px 3px 1px rgba(0, 0, 0, 0.15);\n",
              "    filter: drop-shadow(0px 1px 2px rgba(0, 0, 0, 0.3));\n",
              "    fill: #FFFFFF;\n",
              "  }\n",
              "</style>\n",
              "\n",
              "    <script>\n",
              "      async function quickchart(key) {\n",
              "        const containerElement = document.querySelector('#' + key);\n",
              "        const charts = await google.colab.kernel.invokeFunction(\n",
              "            'suggestCharts', [key], {});\n",
              "      }\n",
              "    </script>\n",
              "\n",
              "      <script>\n",
              "\n",
              "function displayQuickchartButton(domScope) {\n",
              "  let quickchartButtonEl =\n",
              "    domScope.querySelector('#df-de2c82c5-9a2d-41d4-91f4-9a823ca5bd75 button.colab-df-quickchart');\n",
              "  quickchartButtonEl.style.display =\n",
              "    google.colab.kernel.accessAllowed ? 'block' : 'none';\n",
              "}\n",
              "\n",
              "        displayQuickchartButton(document);\n",
              "      </script>\n",
              "      <style>\n",
              "    .colab-df-container {\n",
              "      display:flex;\n",
              "      flex-wrap:wrap;\n",
              "      gap: 12px;\n",
              "    }\n",
              "\n",
              "    .colab-df-convert {\n",
              "      background-color: #E8F0FE;\n",
              "      border: none;\n",
              "      border-radius: 50%;\n",
              "      cursor: pointer;\n",
              "      display: none;\n",
              "      fill: #1967D2;\n",
              "      height: 32px;\n",
              "      padding: 0 0 0 0;\n",
              "      width: 32px;\n",
              "    }\n",
              "\n",
              "    .colab-df-convert:hover {\n",
              "      background-color: #E2EBFA;\n",
              "      box-shadow: 0px 1px 2px rgba(60, 64, 67, 0.3), 0px 1px 3px 1px rgba(60, 64, 67, 0.15);\n",
              "      fill: #174EA6;\n",
              "    }\n",
              "\n",
              "    [theme=dark] .colab-df-convert {\n",
              "      background-color: #3B4455;\n",
              "      fill: #D2E3FC;\n",
              "    }\n",
              "\n",
              "    [theme=dark] .colab-df-convert:hover {\n",
              "      background-color: #434B5C;\n",
              "      box-shadow: 0px 1px 3px 1px rgba(0, 0, 0, 0.15);\n",
              "      filter: drop-shadow(0px 1px 2px rgba(0, 0, 0, 0.3));\n",
              "      fill: #FFFFFF;\n",
              "    }\n",
              "  </style>\n",
              "\n",
              "      <script>\n",
              "        const buttonEl =\n",
              "          document.querySelector('#df-7166e319-5c14-4ae2-83c3-db8384f08d8d button.colab-df-convert');\n",
              "        buttonEl.style.display =\n",
              "          google.colab.kernel.accessAllowed ? 'block' : 'none';\n",
              "\n",
              "        async function convertToInteractive(key) {\n",
              "          const element = document.querySelector('#df-7166e319-5c14-4ae2-83c3-db8384f08d8d');\n",
              "          const dataTable =\n",
              "            await google.colab.kernel.invokeFunction('convertToInteractive',\n",
              "                                                     [key], {});\n",
              "          if (!dataTable) return;\n",
              "\n",
              "          const docLinkHtml = 'Like what you see? Visit the ' +\n",
              "            '<a target=\"_blank\" href=https://colab.research.google.com/notebooks/data_table.ipynb>data table notebook</a>'\n",
              "            + ' to learn more about interactive tables.';\n",
              "          element.innerHTML = '';\n",
              "          dataTable['output_type'] = 'display_data';\n",
              "          await google.colab.output.renderOutput(dataTable, element);\n",
              "          const docLink = document.createElement('div');\n",
              "          docLink.innerHTML = docLinkHtml;\n",
              "          element.appendChild(docLink);\n",
              "        }\n",
              "      </script>\n",
              "    </div>\n",
              "  </div>\n"
            ]
          },
          "metadata": {},
          "execution_count": 3
        }
      ],
      "source": [
        "import pandas as pd\n",
        "import warnings\n",
        "warnings.filterwarnings('ignore')\n",
        "\n",
        "df = pd.read_csv(\"/content/ML_datasets/bank-full.csv\",delimiter = \";\")\n",
        "df"
      ]
    },
    {
      "cell_type": "code",
      "execution_count": 4,
      "metadata": {
        "id": "Rj0IypwF0xOv"
      },
      "outputs": [],
      "source": [
        "main_df = df"
      ]
    },
    {
      "cell_type": "markdown",
      "metadata": {
        "id": "S9D-CM1Da8mk"
      },
      "source": [
        "Separate the Categorical columns and Numerical Columns"
      ]
    },
    {
      "cell_type": "code",
      "execution_count": 5,
      "metadata": {
        "colab": {
          "base_uri": "https://localhost:8080/"
        },
        "id": "Dr6-h8mD7P2q",
        "outputId": "ef9e9b90-ae6f-4764-cf45-1117375bff2a"
      },
      "outputs": [
        {
          "output_type": "stream",
          "name": "stdout",
          "text": [
            "Numerical Features :  ['age', 'balance', 'day', 'duration', 'campaign', 'pdays', 'previous']\n",
            "Categorical Features :  ['month', 'contact', 'housing', 'job', 'education', 'y', 'default', 'marital', 'poutcome', 'loan']\n"
          ]
        }
      ],
      "source": [
        "cols = df.columns\n",
        "num_cols = df._get_numeric_data().columns\n",
        "cat_cols = list(set(cols) - set(num_cols))\n",
        "num_cols = list(num_cols)\n",
        "print(\"Numerical Features : \", num_cols)\n",
        "print(\"Categorical Features : \",cat_cols)"
      ]
    },
    {
      "cell_type": "code",
      "execution_count": 6,
      "metadata": {
        "colab": {
          "base_uri": "https://localhost:8080/",
          "height": 300
        },
        "id": "2J7rQRXl4cmj",
        "outputId": "0cb79d11-7bd2-4db2-e2c1-a4f71d00907f"
      },
      "outputs": [
        {
          "output_type": "execute_result",
          "data": {
            "text/plain": [
              "                age        balance           day      duration      campaign  \\\n",
              "count  45211.000000   45211.000000  45211.000000  45211.000000  45211.000000   \n",
              "mean      40.936210    1362.272058     15.806419    258.163080      2.763841   \n",
              "std       10.618762    3044.765829      8.322476    257.527812      3.098021   \n",
              "min       18.000000   -8019.000000      1.000000      0.000000      1.000000   \n",
              "25%       33.000000      72.000000      8.000000    103.000000      1.000000   \n",
              "50%       39.000000     448.000000     16.000000    180.000000      2.000000   \n",
              "75%       48.000000    1428.000000     21.000000    319.000000      3.000000   \n",
              "max       95.000000  102127.000000     31.000000   4918.000000     63.000000   \n",
              "\n",
              "              pdays      previous  \n",
              "count  45211.000000  45211.000000  \n",
              "mean      40.197828      0.580323  \n",
              "std      100.128746      2.303441  \n",
              "min       -1.000000      0.000000  \n",
              "25%       -1.000000      0.000000  \n",
              "50%       -1.000000      0.000000  \n",
              "75%       -1.000000      0.000000  \n",
              "max      871.000000    275.000000  "
            ],
            "text/html": [
              "\n",
              "\n",
              "  <div id=\"df-14313ddd-7c5e-4463-a03c-cf3b3155d85b\">\n",
              "    <div class=\"colab-df-container\">\n",
              "      <div>\n",
              "<style scoped>\n",
              "    .dataframe tbody tr th:only-of-type {\n",
              "        vertical-align: middle;\n",
              "    }\n",
              "\n",
              "    .dataframe tbody tr th {\n",
              "        vertical-align: top;\n",
              "    }\n",
              "\n",
              "    .dataframe thead th {\n",
              "        text-align: right;\n",
              "    }\n",
              "</style>\n",
              "<table border=\"1\" class=\"dataframe\">\n",
              "  <thead>\n",
              "    <tr style=\"text-align: right;\">\n",
              "      <th></th>\n",
              "      <th>age</th>\n",
              "      <th>balance</th>\n",
              "      <th>day</th>\n",
              "      <th>duration</th>\n",
              "      <th>campaign</th>\n",
              "      <th>pdays</th>\n",
              "      <th>previous</th>\n",
              "    </tr>\n",
              "  </thead>\n",
              "  <tbody>\n",
              "    <tr>\n",
              "      <th>count</th>\n",
              "      <td>45211.000000</td>\n",
              "      <td>45211.000000</td>\n",
              "      <td>45211.000000</td>\n",
              "      <td>45211.000000</td>\n",
              "      <td>45211.000000</td>\n",
              "      <td>45211.000000</td>\n",
              "      <td>45211.000000</td>\n",
              "    </tr>\n",
              "    <tr>\n",
              "      <th>mean</th>\n",
              "      <td>40.936210</td>\n",
              "      <td>1362.272058</td>\n",
              "      <td>15.806419</td>\n",
              "      <td>258.163080</td>\n",
              "      <td>2.763841</td>\n",
              "      <td>40.197828</td>\n",
              "      <td>0.580323</td>\n",
              "    </tr>\n",
              "    <tr>\n",
              "      <th>std</th>\n",
              "      <td>10.618762</td>\n",
              "      <td>3044.765829</td>\n",
              "      <td>8.322476</td>\n",
              "      <td>257.527812</td>\n",
              "      <td>3.098021</td>\n",
              "      <td>100.128746</td>\n",
              "      <td>2.303441</td>\n",
              "    </tr>\n",
              "    <tr>\n",
              "      <th>min</th>\n",
              "      <td>18.000000</td>\n",
              "      <td>-8019.000000</td>\n",
              "      <td>1.000000</td>\n",
              "      <td>0.000000</td>\n",
              "      <td>1.000000</td>\n",
              "      <td>-1.000000</td>\n",
              "      <td>0.000000</td>\n",
              "    </tr>\n",
              "    <tr>\n",
              "      <th>25%</th>\n",
              "      <td>33.000000</td>\n",
              "      <td>72.000000</td>\n",
              "      <td>8.000000</td>\n",
              "      <td>103.000000</td>\n",
              "      <td>1.000000</td>\n",
              "      <td>-1.000000</td>\n",
              "      <td>0.000000</td>\n",
              "    </tr>\n",
              "    <tr>\n",
              "      <th>50%</th>\n",
              "      <td>39.000000</td>\n",
              "      <td>448.000000</td>\n",
              "      <td>16.000000</td>\n",
              "      <td>180.000000</td>\n",
              "      <td>2.000000</td>\n",
              "      <td>-1.000000</td>\n",
              "      <td>0.000000</td>\n",
              "    </tr>\n",
              "    <tr>\n",
              "      <th>75%</th>\n",
              "      <td>48.000000</td>\n",
              "      <td>1428.000000</td>\n",
              "      <td>21.000000</td>\n",
              "      <td>319.000000</td>\n",
              "      <td>3.000000</td>\n",
              "      <td>-1.000000</td>\n",
              "      <td>0.000000</td>\n",
              "    </tr>\n",
              "    <tr>\n",
              "      <th>max</th>\n",
              "      <td>95.000000</td>\n",
              "      <td>102127.000000</td>\n",
              "      <td>31.000000</td>\n",
              "      <td>4918.000000</td>\n",
              "      <td>63.000000</td>\n",
              "      <td>871.000000</td>\n",
              "      <td>275.000000</td>\n",
              "    </tr>\n",
              "  </tbody>\n",
              "</table>\n",
              "</div>\n",
              "      <button class=\"colab-df-convert\" onclick=\"convertToInteractive('df-14313ddd-7c5e-4463-a03c-cf3b3155d85b')\"\n",
              "              title=\"Convert this dataframe to an interactive table.\"\n",
              "              style=\"display:none;\">\n",
              "\n",
              "  <svg xmlns=\"http://www.w3.org/2000/svg\" height=\"24px\"viewBox=\"0 0 24 24\"\n",
              "       width=\"24px\">\n",
              "    <path d=\"M0 0h24v24H0V0z\" fill=\"none\"/>\n",
              "    <path d=\"M18.56 5.44l.94 2.06.94-2.06 2.06-.94-2.06-.94-.94-2.06-.94 2.06-2.06.94zm-11 1L8.5 8.5l.94-2.06 2.06-.94-2.06-.94L8.5 2.5l-.94 2.06-2.06.94zm10 10l.94 2.06.94-2.06 2.06-.94-2.06-.94-.94-2.06-.94 2.06-2.06.94z\"/><path d=\"M17.41 7.96l-1.37-1.37c-.4-.4-.92-.59-1.43-.59-.52 0-1.04.2-1.43.59L10.3 9.45l-7.72 7.72c-.78.78-.78 2.05 0 2.83L4 21.41c.39.39.9.59 1.41.59.51 0 1.02-.2 1.41-.59l7.78-7.78 2.81-2.81c.8-.78.8-2.07 0-2.86zM5.41 20L4 18.59l7.72-7.72 1.47 1.35L5.41 20z\"/>\n",
              "  </svg>\n",
              "      </button>\n",
              "\n",
              "\n",
              "\n",
              "    <div id=\"df-7b6fee0d-691c-499b-877a-8f858a911114\">\n",
              "      <button class=\"colab-df-quickchart\" onclick=\"quickchart('df-7b6fee0d-691c-499b-877a-8f858a911114')\"\n",
              "              title=\"Suggest charts.\"\n",
              "              style=\"display:none;\">\n",
              "\n",
              "<svg xmlns=\"http://www.w3.org/2000/svg\" height=\"24px\"viewBox=\"0 0 24 24\"\n",
              "     width=\"24px\">\n",
              "    <g>\n",
              "        <path d=\"M19 3H5c-1.1 0-2 .9-2 2v14c0 1.1.9 2 2 2h14c1.1 0 2-.9 2-2V5c0-1.1-.9-2-2-2zM9 17H7v-7h2v7zm4 0h-2V7h2v10zm4 0h-2v-4h2v4z\"/>\n",
              "    </g>\n",
              "</svg>\n",
              "      </button>\n",
              "    </div>\n",
              "\n",
              "<style>\n",
              "  .colab-df-quickchart {\n",
              "    background-color: #E8F0FE;\n",
              "    border: none;\n",
              "    border-radius: 50%;\n",
              "    cursor: pointer;\n",
              "    display: none;\n",
              "    fill: #1967D2;\n",
              "    height: 32px;\n",
              "    padding: 0 0 0 0;\n",
              "    width: 32px;\n",
              "  }\n",
              "\n",
              "  .colab-df-quickchart:hover {\n",
              "    background-color: #E2EBFA;\n",
              "    box-shadow: 0px 1px 2px rgba(60, 64, 67, 0.3), 0px 1px 3px 1px rgba(60, 64, 67, 0.15);\n",
              "    fill: #174EA6;\n",
              "  }\n",
              "\n",
              "  [theme=dark] .colab-df-quickchart {\n",
              "    background-color: #3B4455;\n",
              "    fill: #D2E3FC;\n",
              "  }\n",
              "\n",
              "  [theme=dark] .colab-df-quickchart:hover {\n",
              "    background-color: #434B5C;\n",
              "    box-shadow: 0px 1px 3px 1px rgba(0, 0, 0, 0.15);\n",
              "    filter: drop-shadow(0px 1px 2px rgba(0, 0, 0, 0.3));\n",
              "    fill: #FFFFFF;\n",
              "  }\n",
              "</style>\n",
              "\n",
              "    <script>\n",
              "      async function quickchart(key) {\n",
              "        const containerElement = document.querySelector('#' + key);\n",
              "        const charts = await google.colab.kernel.invokeFunction(\n",
              "            'suggestCharts', [key], {});\n",
              "      }\n",
              "    </script>\n",
              "\n",
              "      <script>\n",
              "\n",
              "function displayQuickchartButton(domScope) {\n",
              "  let quickchartButtonEl =\n",
              "    domScope.querySelector('#df-7b6fee0d-691c-499b-877a-8f858a911114 button.colab-df-quickchart');\n",
              "  quickchartButtonEl.style.display =\n",
              "    google.colab.kernel.accessAllowed ? 'block' : 'none';\n",
              "}\n",
              "\n",
              "        displayQuickchartButton(document);\n",
              "      </script>\n",
              "      <style>\n",
              "    .colab-df-container {\n",
              "      display:flex;\n",
              "      flex-wrap:wrap;\n",
              "      gap: 12px;\n",
              "    }\n",
              "\n",
              "    .colab-df-convert {\n",
              "      background-color: #E8F0FE;\n",
              "      border: none;\n",
              "      border-radius: 50%;\n",
              "      cursor: pointer;\n",
              "      display: none;\n",
              "      fill: #1967D2;\n",
              "      height: 32px;\n",
              "      padding: 0 0 0 0;\n",
              "      width: 32px;\n",
              "    }\n",
              "\n",
              "    .colab-df-convert:hover {\n",
              "      background-color: #E2EBFA;\n",
              "      box-shadow: 0px 1px 2px rgba(60, 64, 67, 0.3), 0px 1px 3px 1px rgba(60, 64, 67, 0.15);\n",
              "      fill: #174EA6;\n",
              "    }\n",
              "\n",
              "    [theme=dark] .colab-df-convert {\n",
              "      background-color: #3B4455;\n",
              "      fill: #D2E3FC;\n",
              "    }\n",
              "\n",
              "    [theme=dark] .colab-df-convert:hover {\n",
              "      background-color: #434B5C;\n",
              "      box-shadow: 0px 1px 3px 1px rgba(0, 0, 0, 0.15);\n",
              "      filter: drop-shadow(0px 1px 2px rgba(0, 0, 0, 0.3));\n",
              "      fill: #FFFFFF;\n",
              "    }\n",
              "  </style>\n",
              "\n",
              "      <script>\n",
              "        const buttonEl =\n",
              "          document.querySelector('#df-14313ddd-7c5e-4463-a03c-cf3b3155d85b button.colab-df-convert');\n",
              "        buttonEl.style.display =\n",
              "          google.colab.kernel.accessAllowed ? 'block' : 'none';\n",
              "\n",
              "        async function convertToInteractive(key) {\n",
              "          const element = document.querySelector('#df-14313ddd-7c5e-4463-a03c-cf3b3155d85b');\n",
              "          const dataTable =\n",
              "            await google.colab.kernel.invokeFunction('convertToInteractive',\n",
              "                                                     [key], {});\n",
              "          if (!dataTable) return;\n",
              "\n",
              "          const docLinkHtml = 'Like what you see? Visit the ' +\n",
              "            '<a target=\"_blank\" href=https://colab.research.google.com/notebooks/data_table.ipynb>data table notebook</a>'\n",
              "            + ' to learn more about interactive tables.';\n",
              "          element.innerHTML = '';\n",
              "          dataTable['output_type'] = 'display_data';\n",
              "          await google.colab.output.renderOutput(dataTable, element);\n",
              "          const docLink = document.createElement('div');\n",
              "          docLink.innerHTML = docLinkHtml;\n",
              "          element.appendChild(docLink);\n",
              "        }\n",
              "      </script>\n",
              "    </div>\n",
              "  </div>\n"
            ]
          },
          "metadata": {},
          "execution_count": 6
        }
      ],
      "source": [
        "main_df.describe()"
      ]
    },
    {
      "cell_type": "markdown",
      "metadata": {
        "id": "i07yY3yFbZky"
      },
      "source": [
        "## Missing Value Detection and Elimination\n",
        "\n",
        "Counting the Null Values"
      ]
    },
    {
      "cell_type": "code",
      "execution_count": 7,
      "metadata": {
        "id": "oh1Z68tq9s-p"
      },
      "outputs": [],
      "source": [
        "import numpy as np\n",
        "df = df.replace('unknown', np.nan)\n",
        "nulls = df"
      ]
    },
    {
      "cell_type": "code",
      "execution_count": 8,
      "metadata": {
        "colab": {
          "base_uri": "https://localhost:8080/"
        },
        "id": "2XAptoYk8n1P",
        "outputId": "0244b1e2-9c98-4af6-80ed-af0094150d3f"
      },
      "outputs": [
        {
          "output_type": "stream",
          "name": "stdout",
          "text": [
            "           Nulls  Percentage\n",
            "age            0    0.000000\n",
            "job          288    0.637013\n",
            "marital        0    0.000000\n",
            "education   1857    4.107407\n",
            "default        0    0.000000\n",
            "balance        0    0.000000\n",
            "housing        0    0.000000\n",
            "loan           0    0.000000\n",
            "contact    13020   28.798301\n",
            "day            0    0.000000\n",
            "month          0    0.000000\n",
            "duration       0    0.000000\n",
            "campaign       0    0.000000\n",
            "pdays          0    0.000000\n",
            "previous       0    0.000000\n",
            "poutcome   36959   81.747805\n",
            "y              0    0.000000\n"
          ]
        }
      ],
      "source": [
        "d2 = pd.DataFrame(df.isnull().sum(), columns=[\"Nulls\"])\n",
        "d2[\"Percentage\"] = 100*d2[\"Nulls\"]/len(df)\n",
        "print(d2)"
      ]
    },
    {
      "cell_type": "markdown",
      "metadata": {
        "id": "pa5sxScjbfhh"
      },
      "source": [
        "Drop the poutcome since very high missing values, while using mode imputation for the other categorical variables"
      ]
    },
    {
      "cell_type": "code",
      "execution_count": 9,
      "metadata": {
        "id": "btXLXbX19qHU"
      },
      "outputs": [],
      "source": [
        "df.drop(columns='poutcome', inplace=True)\n",
        "\n",
        "df['contact']=df['contact'].fillna(df['contact'].mode()[0])\n",
        "df['education']=df['education'].fillna(df['education'].mode()[0])\n",
        "df['job']=df['job'].fillna(df['job'].mode()[0])"
      ]
    },
    {
      "cell_type": "markdown",
      "metadata": {
        "id": "my0W3d1Jb0T6"
      },
      "source": [
        "## Outliers detection and Elimination"
      ]
    },
    {
      "cell_type": "code",
      "execution_count": 10,
      "metadata": {
        "colab": {
          "base_uri": "https://localhost:8080/",
          "height": 1000
        },
        "id": "UKRUC_G-X9Qh",
        "outputId": "73f421c3-7e84-4b03-9790-7111b041497b"
      },
      "outputs": [
        {
          "output_type": "display_data",
          "data": {
            "text/plain": [
              "<Figure size 1500x600 with 1 Axes>"
            ],
            "image/png": "[encoded data removed]"
          },
          "metadata": {}
        },
        {
          "output_type": "display_data",
          "data": {
            "text/plain": [
              "<Figure size 1500x600 with 1 Axes>"
            ],
            "image/png": "[encoded data removed]"
          },
          "metadata": {}
        },
        {
          "output_type": "display_data",
          "data": {
            "text/plain": [
              "<Figure size 1500x600 with 1 Axes>"
            ],
            "image/png": "[encoded data removed]"
          },
          "metadata": {}
        },
        {
          "output_type": "display_data",
          "data": {
            "text/plain": [
              "<Figure size 1500x600 with 1 Axes>"
            ],
            "image/png": "[encoded data removed]"
          },
          "metadata": {}
        },
        {
          "output_type": "display_data",
          "data": {
            "text/plain": [
              "<Figure size 1500x600 with 1 Axes>"
            ],
            "image/png": "[encoded data removed]"
          },
          "metadata": {}
        },
        {
          "output_type": "display_data",
          "data": {
            "text/plain": [
              "<Figure size 1500x600 with 1 Axes>"
            ],
            "image/png": "[encoded data removed]"
          },
          "metadata": {}
        },
        {
          "output_type": "display_data",
          "data": {
            "text/plain": [
              "<Figure size 1500x600 with 1 Axes>"
            ],
            "image/png": "[encoded data removed]"
          },
          "metadata": {}
        }
      ],
      "source": [
        "import matplotlib.pyplot as plt\n",
        "import seaborn as sns\n",
        "\n",
        "for var in num_cols:\n",
        "    plt.figure(figsize=(15,6))\n",
        "    plt.subplot(1,2,1)\n",
        "    ax=sns.boxplot(data=df[var])\n",
        "    ax.set_title(f'{var}')\n",
        "    ax.set_ylabel(var)"
      ]
    },
    {
      "cell_type": "markdown",
      "metadata": {
        "id": "uOtIFpkGcMCF"
      },
      "source": [
        "Capping the values using IQR"
      ]
    },
    {
      "cell_type": "code",
      "execution_count": 11,
      "metadata": {
        "id": "0ZjMZvhjqfVj"
      },
      "outputs": [],
      "source": [
        "outlier_var=['age', 'balance', 'duration', 'campaign']\n",
        "\n",
        "# Capping dataset\n",
        "for i in outlier_var:\n",
        "    # Findling IQR\n",
        "    Q1=df[i].quantile(0.25)\n",
        "    Q3=df[i].quantile(0.75)\n",
        "    IQR=Q3-Q1\n",
        "\n",
        "    # Defining upper and lower limit\n",
        "    lower_limit =df[i].quantile(0.25)-1.5*IQR\n",
        "    upper_limit =df[i].quantile(0.75)+1.5*IQR\n",
        "\n",
        "    # Applying lower and upper limit to each variables\n",
        "    df.loc[(df[i] > upper_limit),i] = upper_limit\n",
        "    df.loc[(df[i] < lower_limit),i] = lower_limit"
      ]
    },
    {
      "cell_type": "code",
      "execution_count": 12,
      "metadata": {
        "colab": {
          "base_uri": "https://localhost:8080/",
          "height": 1000
        },
        "id": "fqNND6ohq49p",
        "outputId": "59979c22-60e5-4112-b85b-5ae72479f171"
      },
      "outputs": [
        {
          "output_type": "stream",
          "name": "stdout",
          "text": [
            "__________________________________________________________________________________________\n"
          ]
        },
        {
          "output_type": "display_data",
          "data": {
            "text/plain": [
              "<Figure size 1500x600 with 2 Axes>"
            ],
            "image/png": "[encoded data removed]"
          },
          "metadata": {}
        },
        {
          "output_type": "stream",
          "name": "stdout",
          "text": [
            "__________________________________________________________________________________________\n"
          ]
        },
        {
          "output_type": "display_data",
          "data": {
            "text/plain": [
              "<Figure size 1500x600 with 2 Axes>"
            ],
            "image/png": "[encoded data removed]"
          },
          "metadata": {}
        },
        {
          "output_type": "stream",
          "name": "stdout",
          "text": [
            "__________________________________________________________________________________________\n"
          ]
        },
        {
          "output_type": "display_data",
          "data": {
            "text/plain": [
              "<Figure size 1500x600 with 2 Axes>"
            ],
            "image/png": "[encoded data removed]"
          },
          "metadata": {}
        },
        {
          "output_type": "stream",
          "name": "stdout",
          "text": [
            "__________________________________________________________________________________________\n"
          ]
        },
        {
          "output_type": "display_data",
          "data": {
            "text/plain": [
              "<Figure size 1500x600 with 2 Axes>"
            ],
            "image/png": "[encoded data removed]"
          },
          "metadata": {}
        }
      ],
      "source": [
        "from scipy.stats import norm\n",
        "\n",
        "for var in outlier_var:\n",
        "    plt.figure(figsize=(15,6))\n",
        "    plt.subplot(1,2,1)\n",
        "    ax=sns.boxplot(data=df[var])\n",
        "    ax.set_title(f'{var}')\n",
        "    ax.set_ylabel(var)\n",
        "\n",
        "    plt.subplot(1,2,2)\n",
        "    ax=sns.distplot(df[var], fit=norm)\n",
        "    ax.set_title(f'skewness of {var} : {df[var].skew()}')\n",
        "    ax.set_xlabel(var)\n",
        "    print('__'*45)\n",
        "    plt.show()"
      ]
    },
    {
      "cell_type": "markdown",
      "metadata": {
        "id": "q7UonrSqcR6P"
      },
      "source": [
        "## Multicollinearity"
      ]
    },
    {
      "cell_type": "code",
      "execution_count": 13,
      "metadata": {
        "colab": {
          "base_uri": "https://localhost:8080/",
          "height": 575
        },
        "id": "6eJU9K2BrHRD",
        "outputId": "a876356a-6269-4548-f30a-2575a4892488"
      },
      "outputs": [
        {
          "output_type": "display_data",
          "data": {
            "text/plain": [
              "<Figure size 2000x1000 with 2 Axes>"
            ],
            "image/png": "[encoded data removed]"
          },
          "metadata": {}
        }
      ],
      "source": [
        "f, ax = plt.subplots(figsize = (20, 10))\n",
        "sns.heatmap(df.corr(),ax = ax, annot=True, cmap='coolwarm', linewidths=0.5)\n",
        "plt.show()"
      ]
    },
    {
      "cell_type": "markdown",
      "metadata": {
        "id": "NqOG5adnx1gL"
      },
      "source": [
        "# Data PreProcessing"
      ]
    },
    {
      "cell_type": "markdown",
      "metadata": {
        "id": "W1QtzW0McYMZ"
      },
      "source": [
        "## One Hot Encoding"
      ]
    },
    {
      "cell_type": "code",
      "execution_count": 14,
      "metadata": {
        "colab": {
          "base_uri": "https://localhost:8080/"
        },
        "id": "cl9-NRvDtaP5",
        "outputId": "b163c9f6-9d31-44cf-b87d-72c22b3e30b6"
      },
      "outputs": [
        {
          "output_type": "stream",
          "name": "stdout",
          "text": [
            "Categorical variables are : ['job', 'marital', 'education', 'default', 'housing', 'loan', 'contact', 'month', 'y']\n"
          ]
        }
      ],
      "source": [
        "categorical_variables=df.describe(include=['object']).columns\n",
        "print(f'Categorical variables are : {list(categorical_variables)}')"
      ]
    },
    {
      "cell_type": "code",
      "execution_count": 15,
      "metadata": {
        "id": "ixkSw_zCxyWy"
      },
      "outputs": [],
      "source": [
        "df['default'] = df['default'].map({'yes':1,'no':0})\n",
        "df['housing'] = df['housing'].map({'yes':1,'no':0})\n",
        "df['loan'] = df['loan'].map({'yes':1,'no':0})\n",
        "df['contact'] = df['contact'].map({'cellular':1,'telephone':0})\n",
        "df['y'] = df['y'].map({'yes':1,'no':0})"
      ]
    },
    {
      "cell_type": "code",
      "execution_count": 16,
      "metadata": {
        "colab": {
          "base_uri": "https://localhost:8080/"
        },
        "id": "Zcn6ULBUx7Ss",
        "outputId": "ed187cfb-003e-4b7b-8f11-8da52f4adc7b"
      },
      "outputs": [
        {
          "output_type": "stream",
          "name": "stdout",
          "text": [
            "<class 'pandas.core.frame.DataFrame'>\n",
            "RangeIndex: 45211 entries, 0 to 45210\n",
            "Data columns (total 37 columns):\n",
            " #   Column               Non-Null Count  Dtype  \n",
            "---  ------               --------------  -----  \n",
            " 0   age                  45211 non-null  float64\n",
            " 1   default              45211 non-null  int64  \n",
            " 2   balance              45211 non-null  int64  \n",
            " 3   housing              45211 non-null  int64  \n",
            " 4   loan                 45211 non-null  int64  \n",
            " 5   contact              45211 non-null  int64  \n",
            " 6   day                  45211 non-null  int64  \n",
            " 7   duration             45211 non-null  int64  \n",
            " 8   campaign             45211 non-null  int64  \n",
            " 9   pdays                45211 non-null  int64  \n",
            " 10  previous             45211 non-null  int64  \n",
            " 11  y                    45211 non-null  int64  \n",
            " 12  marital_married      45211 non-null  uint8  \n",
            " 13  marital_single       45211 non-null  uint8  \n",
            " 14  education_secondary  45211 non-null  uint8  \n",
            " 15  education_tertiary   45211 non-null  uint8  \n",
            " 16  job_blue-collar      45211 non-null  uint8  \n",
            " 17  job_entrepreneur     45211 non-null  uint8  \n",
            " 18  job_housemaid        45211 non-null  uint8  \n",
            " 19  job_management       45211 non-null  uint8  \n",
            " 20  job_retired          45211 non-null  uint8  \n",
            " 21  job_self-employed    45211 non-null  uint8  \n",
            " 22  job_services         45211 non-null  uint8  \n",
            " 23  job_student          45211 non-null  uint8  \n",
            " 24  job_technician       45211 non-null  uint8  \n",
            " 25  job_unemployed       45211 non-null  uint8  \n",
            " 26  month_aug            45211 non-null  uint8  \n",
            " 27  month_dec            45211 non-null  uint8  \n",
            " 28  month_feb            45211 non-null  uint8  \n",
            " 29  month_jan            45211 non-null  uint8  \n",
            " 30  month_jul            45211 non-null  uint8  \n",
            " 31  month_jun            45211 non-null  uint8  \n",
            " 32  month_mar            45211 non-null  uint8  \n",
            " 33  month_may            45211 non-null  uint8  \n",
            " 34  month_nov            45211 non-null  uint8  \n",
            " 35  month_oct            45211 non-null  uint8  \n",
            " 36  month_sep            45211 non-null  uint8  \n",
            "dtypes: float64(1), int64(11), uint8(25)\n",
            "memory usage: 5.2 MB\n"
          ]
        }
      ],
      "source": [
        "df=pd.get_dummies(df, columns=['marital','education','job', \"month\"], prefix=['marital','education',\"job\", \"month\"], drop_first=True)\n",
        "df.info()"
      ]
    },
    {
      "cell_type": "code",
      "execution_count": 17,
      "metadata": {
        "colab": {
          "base_uri": "https://localhost:8080/",
          "height": 287
        },
        "id": "7Z1kE79WyA8_",
        "outputId": "a9301751-ddec-4893-cf33-3048fe088892"
      },
      "outputs": [
        {
          "output_type": "execute_result",
          "data": {
            "text/plain": [
              "    age  default  balance  housing  loan  contact  day  duration  campaign  \\\n",
              "0  58.0        0     2143        1     0        1    5       261         1   \n",
              "1  44.0        0       29        1     0        1    5       151         1   \n",
              "2  33.0        0        2        1     1        1    5        76         1   \n",
              "3  47.0        0     1506        1     0        1    5        92         1   \n",
              "4  33.0        0        1        0     0        1    5       198         1   \n",
              "\n",
              "   pdays  previous  y  marital_married  marital_single  education_secondary  \\\n",
              "0     -1         0  0                1               0                    0   \n",
              "1     -1         0  0                0               1                    1   \n",
              "2     -1         0  0                1               0                    1   \n",
              "3     -1         0  0                1               0                    1   \n",
              "4     -1         0  0                0               1                    1   \n",
              "\n",
              "   education_tertiary  job_blue-collar  job_entrepreneur  job_housemaid  \\\n",
              "0                   1                0                 0              0   \n",
              "1                   0                0                 0              0   \n",
              "2                   0                0                 1              0   \n",
              "3                   0                1                 0              0   \n",
              "4                   0                1                 0              0   \n",
              "\n",
              "   job_management  job_retired  job_self-employed  job_services  job_student  \\\n",
              "0               1            0                  0             0            0   \n",
              "1               0            0                  0             0            0   \n",
              "2               0            0                  0             0            0   \n",
              "3               0            0                  0             0            0   \n",
              "4               0            0                  0             0            0   \n",
              "\n",
              "   job_technician  job_unemployed  month_aug  month_dec  month_feb  month_jan  \\\n",
              "0               0               0          0          0          0          0   \n",
              "1               1               0          0          0          0          0   \n",
              "2               0               0          0          0          0          0   \n",
              "3               0               0          0          0          0          0   \n",
              "4               0               0          0          0          0          0   \n",
              "\n",
              "   month_jul  month_jun  month_mar  month_may  month_nov  month_oct  month_sep  \n",
              "0          0          0          0          1          0          0          0  \n",
              "1          0          0          0          1          0          0          0  \n",
              "2          0          0          0          1          0          0          0  \n",
              "3          0          0          0          1          0          0          0  \n",
              "4          0          0          0          1          0          0          0  "
            ],
            "text/html": [
              "\n",
              "\n",
              "  <div id=\"df-295dc62c-80a0-4c8b-ab56-7c23593177c1\">\n",
              "    <div class=\"colab-df-container\">\n",
              "      <div>\n",
              "<style scoped>\n",
              "    .dataframe tbody tr th:only-of-type {\n",
              "        vertical-align: middle;\n",
              "    }\n",
              "\n",
              "    .dataframe tbody tr th {\n",
              "        vertical-align: top;\n",
              "    }\n",
              "\n",
              "    .dataframe thead th {\n",
              "        text-align: right;\n",
              "    }\n",
              "</style>\n",
              "<table border=\"1\" class=\"dataframe\">\n",
              "  <thead>\n",
              "    <tr style=\"text-align: right;\">\n",
              "      <th></th>\n",
              "      <th>age</th>\n",
              "      <th>default</th>\n",
              "      <th>balance</th>\n",
              "      <th>housing</th>\n",
              "      <th>loan</th>\n",
              "      <th>contact</th>\n",
              "      <th>day</th>\n",
              "      <th>duration</th>\n",
              "      <th>campaign</th>\n",
              "      <th>pdays</th>\n",
              "      <th>previous</th>\n",
              "      <th>y</th>\n",
              "      <th>marital_married</th>\n",
              "      <th>marital_single</th>\n",
              "      <th>education_secondary</th>\n",
              "      <th>education_tertiary</th>\n",
              "      <th>job_blue-collar</th>\n",
              "      <th>job_entrepreneur</th>\n",
              "      <th>job_housemaid</th>\n",
              "      <th>job_management</th>\n",
              "      <th>job_retired</th>\n",
              "      <th>job_self-employed</th>\n",
              "      <th>job_services</th>\n",
              "      <th>job_student</th>\n",
              "      <th>job_technician</th>\n",
              "      <th>job_unemployed</th>\n",
              "      <th>month_aug</th>\n",
              "      <th>month_dec</th>\n",
              "      <th>month_feb</th>\n",
              "      <th>month_jan</th>\n",
              "      <th>month_jul</th>\n",
              "      <th>month_jun</th>\n",
              "      <th>month_mar</th>\n",
              "      <th>month_may</th>\n",
              "      <th>month_nov</th>\n",
              "      <th>month_oct</th>\n",
              "      <th>month_sep</th>\n",
              "    </tr>\n",
              "  </thead>\n",
              "  <tbody>\n",
              "    <tr>\n",
              "      <th>0</th>\n",
              "      <td>58.0</td>\n",
              "      <td>0</td>\n",
              "      <td>2143</td>\n",
              "      <td>1</td>\n",
              "      <td>0</td>\n",
              "      <td>1</td>\n",
              "      <td>5</td>\n",
              "      <td>261</td>\n",
              "      <td>1</td>\n",
              "      <td>-1</td>\n",
              "      <td>0</td>\n",
              "      <td>0</td>\n",
              "      <td>1</td>\n",
              "      <td>0</td>\n",
              "      <td>0</td>\n",
              "      <td>1</td>\n",
              "      <td>0</td>\n",
              "      <td>0</td>\n",
              "      <td>0</td>\n",
              "      <td>1</td>\n",
              "      <td>0</td>\n",
              "      <td>0</td>\n",
              "      <td>0</td>\n",
              "      <td>0</td>\n",
              "      <td>0</td>\n",
              "      <td>0</td>\n",
              "      <td>0</td>\n",
              "      <td>0</td>\n",
              "      <td>0</td>\n",
              "      <td>0</td>\n",
              "      <td>0</td>\n",
              "      <td>0</td>\n",
              "      <td>0</td>\n",
              "      <td>1</td>\n",
              "      <td>0</td>\n",
              "      <td>0</td>\n",
              "      <td>0</td>\n",
              "    </tr>\n",
              "    <tr>\n",
              "      <th>1</th>\n",
              "      <td>44.0</td>\n",
              "      <td>0</td>\n",
              "      <td>29</td>\n",
              "      <td>1</td>\n",
              "      <td>0</td>\n",
              "      <td>1</td>\n",
              "      <td>5</td>\n",
              "      <td>151</td>\n",
              "      <td>1</td>\n",
              "      <td>-1</td>\n",
              "      <td>0</td>\n",
              "      <td>0</td>\n",
              "      <td>0</td>\n",
              "      <td>1</td>\n",
              "      <td>1</td>\n",
              "      <td>0</td>\n",
              "      <td>0</td>\n",
              "      <td>0</td>\n",
              "      <td>0</td>\n",
              "      <td>0</td>\n",
              "      <td>0</td>\n",
              "      <td>0</td>\n",
              "      <td>0</td>\n",
              "      <td>0</td>\n",
              "      <td>1</td>\n",
              "      <td>0</td>\n",
              "      <td>0</td>\n",
              "      <td>0</td>\n",
              "      <td>0</td>\n",
              "      <td>0</td>\n",
              "      <td>0</td>\n",
              "      <td>0</td>\n",
              "      <td>0</td>\n",
              "      <td>1</td>\n",
              "      <td>0</td>\n",
              "      <td>0</td>\n",
              "      <td>0</td>\n",
              "    </tr>\n",
              "    <tr>\n",
              "      <th>2</th>\n",
              "      <td>33.0</td>\n",
              "      <td>0</td>\n",
              "      <td>2</td>\n",
              "      <td>1</td>\n",
              "      <td>1</td>\n",
              "      <td>1</td>\n",
              "      <td>5</td>\n",
              "      <td>76</td>\n",
              "      <td>1</td>\n",
              "      <td>-1</td>\n",
              "      <td>0</td>\n",
              "      <td>0</td>\n",
              "      <td>1</td>\n",
              "      <td>0</td>\n",
              "      <td>1</td>\n",
              "      <td>0</td>\n",
              "      <td>0</td>\n",
              "      <td>1</td>\n",
              "      <td>0</td>\n",
              "      <td>0</td>\n",
              "      <td>0</td>\n",
              "      <td>0</td>\n",
              "      <td>0</td>\n",
              "      <td>0</td>\n",
              "      <td>0</td>\n",
              "      <td>0</td>\n",
              "      <td>0</td>\n",
              "      <td>0</td>\n",
              "      <td>0</td>\n",
              "      <td>0</td>\n",
              "      <td>0</td>\n",
              "      <td>0</td>\n",
              "      <td>0</td>\n",
              "      <td>1</td>\n",
              "      <td>0</td>\n",
              "      <td>0</td>\n",
              "      <td>0</td>\n",
              "    </tr>\n",
              "    <tr>\n",
              "      <th>3</th>\n",
              "      <td>47.0</td>\n",
              "      <td>0</td>\n",
              "      <td>1506</td>\n",
              "      <td>1</td>\n",
              "      <td>0</td>\n",
              "      <td>1</td>\n",
              "      <td>5</td>\n",
              "      <td>92</td>\n",
              "      <td>1</td>\n",
              "      <td>-1</td>\n",
              "      <td>0</td>\n",
              "      <td>0</td>\n",
              "      <td>1</td>\n",
              "      <td>0</td>\n",
              "      <td>1</td>\n",
              "      <td>0</td>\n",
              "      <td>1</td>\n",
              "      <td>0</td>\n",
              "      <td>0</td>\n",
              "      <td>0</td>\n",
              "      <td>0</td>\n",
              "      <td>0</td>\n",
              "      <td>0</td>\n",
              "      <td>0</td>\n",
              "      <td>0</td>\n",
              "      <td>0</td>\n",
              "      <td>0</td>\n",
              "      <td>0</td>\n",
              "      <td>0</td>\n",
              "      <td>0</td>\n",
              "      <td>0</td>\n",
              "      <td>0</td>\n",
              "      <td>0</td>\n",
              "      <td>1</td>\n",
              "      <td>0</td>\n",
              "      <td>0</td>\n",
              "      <td>0</td>\n",
              "    </tr>\n",
              "    <tr>\n",
              "      <th>4</th>\n",
              "      <td>33.0</td>\n",
              "      <td>0</td>\n",
              "      <td>1</td>\n",
              "      <td>0</td>\n",
              "      <td>0</td>\n",
              "      <td>1</td>\n",
              "      <td>5</td>\n",
              "      <td>198</td>\n",
              "      <td>1</td>\n",
              "      <td>-1</td>\n",
              "      <td>0</td>\n",
              "      <td>0</td>\n",
              "      <td>0</td>\n",
              "      <td>1</td>\n",
              "      <td>1</td>\n",
              "      <td>0</td>\n",
              "      <td>1</td>\n",
              "      <td>0</td>\n",
              "      <td>0</td>\n",
              "      <td>0</td>\n",
              "      <td>0</td>\n",
              "      <td>0</td>\n",
              "      <td>0</td>\n",
              "      <td>0</td>\n",
              "      <td>0</td>\n",
              "      <td>0</td>\n",
              "      <td>0</td>\n",
              "      <td>0</td>\n",
              "      <td>0</td>\n",
              "      <td>0</td>\n",
              "      <td>0</td>\n",
              "      <td>0</td>\n",
              "      <td>0</td>\n",
              "      <td>1</td>\n",
              "      <td>0</td>\n",
              "      <td>0</td>\n",
              "      <td>0</td>\n",
              "    </tr>\n",
              "  </tbody>\n",
              "</table>\n",
              "</div>\n",
              "      <button class=\"colab-df-convert\" onclick=\"convertToInteractive('df-295dc62c-80a0-4c8b-ab56-7c23593177c1')\"\n",
              "              title=\"Convert this dataframe to an interactive table.\"\n",
              "              style=\"display:none;\">\n",
              "\n",
              "  <svg xmlns=\"http://www.w3.org/2000/svg\" height=\"24px\"viewBox=\"0 0 24 24\"\n",
              "       width=\"24px\">\n",
              "    <path d=\"M0 0h24v24H0V0z\" fill=\"none\"/>\n",
              "    <path d=\"M18.56 5.44l.94 2.06.94-2.06 2.06-.94-2.06-.94-.94-2.06-.94 2.06-2.06.94zm-11 1L8.5 8.5l.94-2.06 2.06-.94-2.06-.94L8.5 2.5l-.94 2.06-2.06.94zm10 10l.94 2.06.94-2.06 2.06-.94-2.06-.94-.94-2.06-.94 2.06-2.06.94z\"/><path d=\"M17.41 7.96l-1.37-1.37c-.4-.4-.92-.59-1.43-.59-.52 0-1.04.2-1.43.59L10.3 9.45l-7.72 7.72c-.78.78-.78 2.05 0 2.83L4 21.41c.39.39.9.59 1.41.59.51 0 1.02-.2 1.41-.59l7.78-7.78 2.81-2.81c.8-.78.8-2.07 0-2.86zM5.41 20L4 18.59l7.72-7.72 1.47 1.35L5.41 20z\"/>\n",
              "  </svg>\n",
              "      </button>\n",
              "\n",
              "\n",
              "\n",
              "    <div id=\"df-cab7e9a1-be5c-4368-824f-3c3bc1ff665b\">\n",
              "      <button class=\"colab-df-quickchart\" onclick=\"quickchart('df-cab7e9a1-be5c-4368-824f-3c3bc1ff665b')\"\n",
              "              title=\"Suggest charts.\"\n",
              "              style=\"display:none;\">\n",
              "\n",
              "<svg xmlns=\"http://www.w3.org/2000/svg\" height=\"24px\"viewBox=\"0 0 24 24\"\n",
              "     width=\"24px\">\n",
              "    <g>\n",
              "        <path d=\"M19 3H5c-1.1 0-2 .9-2 2v14c0 1.1.9 2 2 2h14c1.1 0 2-.9 2-2V5c0-1.1-.9-2-2-2zM9 17H7v-7h2v7zm4 0h-2V7h2v10zm4 0h-2v-4h2v4z\"/>\n",
              "    </g>\n",
              "</svg>\n",
              "      </button>\n",
              "    </div>\n",
              "\n",
              "<style>\n",
              "  .colab-df-quickchart {\n",
              "    background-color: #E8F0FE;\n",
              "    border: none;\n",
              "    border-radius: 50%;\n",
              "    cursor: pointer;\n",
              "    display: none;\n",
              "    fill: #1967D2;\n",
              "    height: 32px;\n",
              "    padding: 0 0 0 0;\n",
              "    width: 32px;\n",
              "  }\n",
              "\n",
              "  .colab-df-quickchart:hover {\n",
              "    background-color: #E2EBFA;\n",
              "    box-shadow: 0px 1px 2px rgba(60, 64, 67, 0.3), 0px 1px 3px 1px rgba(60, 64, 67, 0.15);\n",
              "    fill: #174EA6;\n",
              "  }\n",
              "\n",
              "  [theme=dark] .colab-df-quickchart {\n",
              "    background-color: #3B4455;\n",
              "    fill: #D2E3FC;\n",
              "  }\n",
              "\n",
              "  [theme=dark] .colab-df-quickchart:hover {\n",
              "    background-color: #434B5C;\n",
              "    box-shadow: 0px 1px 3px 1px rgba(0, 0, 0, 0.15);\n",
              "    filter: drop-shadow(0px 1px 2px rgba(0, 0, 0, 0.3));\n",
              "    fill: #FFFFFF;\n",
              "  }\n",
              "</style>\n",
              "\n",
              "    <script>\n",
              "      async function quickchart(key) {\n",
              "        const containerElement = document.querySelector('#' + key);\n",
              "        const charts = await google.colab.kernel.invokeFunction(\n",
              "            'suggestCharts', [key], {});\n",
              "      }\n",
              "    </script>\n",
              "\n",
              "      <script>\n",
              "\n",
              "function displayQuickchartButton(domScope) {\n",
              "  let quickchartButtonEl =\n",
              "    domScope.querySelector('#df-cab7e9a1-be5c-4368-824f-3c3bc1ff665b button.colab-df-quickchart');\n",
              "  quickchartButtonEl.style.display =\n",
              "    google.colab.kernel.accessAllowed ? 'block' : 'none';\n",
              "}\n",
              "\n",
              "        displayQuickchartButton(document);\n",
              "      </script>\n",
              "      <style>\n",
              "    .colab-df-container {\n",
              "      display:flex;\n",
              "      flex-wrap:wrap;\n",
              "      gap: 12px;\n",
              "    }\n",
              "\n",
              "    .colab-df-convert {\n",
              "      background-color: #E8F0FE;\n",
              "      border: none;\n",
              "      border-radius: 50%;\n",
              "      cursor: pointer;\n",
              "      display: none;\n",
              "      fill: #1967D2;\n",
              "      height: 32px;\n",
              "      padding: 0 0 0 0;\n",
              "      width: 32px;\n",
              "    }\n",
              "\n",
              "    .colab-df-convert:hover {\n",
              "      background-color: #E2EBFA;\n",
              "      box-shadow: 0px 1px 2px rgba(60, 64, 67, 0.3), 0px 1px 3px 1px rgba(60, 64, 67, 0.15);\n",
              "      fill: #174EA6;\n",
              "    }\n",
              "\n",
              "    [theme=dark] .colab-df-convert {\n",
              "      background-color: #3B4455;\n",
              "      fill: #D2E3FC;\n",
              "    }\n",
              "\n",
              "    [theme=dark] .colab-df-convert:hover {\n",
              "      background-color: #434B5C;\n",
              "      box-shadow: 0px 1px 3px 1px rgba(0, 0, 0, 0.15);\n",
              "      filter: drop-shadow(0px 1px 2px rgba(0, 0, 0, 0.3));\n",
              "      fill: #FFFFFF;\n",
              "    }\n",
              "  </style>\n",
              "\n",
              "      <script>\n",
              "        const buttonEl =\n",
              "          document.querySelector('#df-295dc62c-80a0-4c8b-ab56-7c23593177c1 button.colab-df-convert');\n",
              "        buttonEl.style.display =\n",
              "          google.colab.kernel.accessAllowed ? 'block' : 'none';\n",
              "\n",
              "        async function convertToInteractive(key) {\n",
              "          const element = document.querySelector('#df-295dc62c-80a0-4c8b-ab56-7c23593177c1');\n",
              "          const dataTable =\n",
              "            await google.colab.kernel.invokeFunction('convertToInteractive',\n",
              "                                                     [key], {});\n",
              "          if (!dataTable) return;\n",
              "\n",
              "          const docLinkHtml = 'Like what you see? Visit the ' +\n",
              "            '<a target=\"_blank\" href=https://colab.research.google.com/notebooks/data_table.ipynb>data table notebook</a>'\n",
              "            + ' to learn more about interactive tables.';\n",
              "          element.innerHTML = '';\n",
              "          dataTable['output_type'] = 'display_data';\n",
              "          await google.colab.output.renderOutput(dataTable, element);\n",
              "          const docLink = document.createElement('div');\n",
              "          docLink.innerHTML = docLinkHtml;\n",
              "          element.appendChild(docLink);\n",
              "        }\n",
              "      </script>\n",
              "    </div>\n",
              "  </div>\n"
            ]
          },
          "metadata": {},
          "execution_count": 17
        }
      ],
      "source": [
        "pd.set_option('display.max_columns', None)\n",
        "df.head()"
      ]
    },
    {
      "cell_type": "code",
      "execution_count": 18,
      "metadata": {
        "colab": {
          "base_uri": "https://localhost:8080/",
          "height": 466
        },
        "id": "dJqBhateXGY_",
        "outputId": "138de918-2065-4f32-94e2-9510e35cffd5"
      },
      "outputs": [
        {
          "output_type": "execute_result",
          "data": {
            "text/plain": [
              "<Axes: xlabel='y', ylabel='count'>"
            ]
          },
          "metadata": {},
          "execution_count": 18
        },
        {
          "output_type": "display_data",
          "data": {
            "text/plain": [
              "<Figure size 640x480 with 1 Axes>"
            ],
            "image/png": "[encoded data removed]"
          },
          "metadata": {}
        }
      ],
      "source": [
        "sns.countplot(x=df[\"y\"])"
      ]
    },
    {
      "cell_type": "code",
      "execution_count": 19,
      "metadata": {
        "colab": {
          "base_uri": "https://localhost:8080/"
        },
        "id": "mZDYc-ceXUbw",
        "outputId": "3ee00cd9-eb4c-4904-ae23-6f4848f084b9"
      },
      "outputs": [
        {
          "output_type": "execute_result",
          "data": {
            "text/plain": [
              "7.548118737001324"
            ]
          },
          "metadata": {},
          "execution_count": 19
        }
      ],
      "source": [
        "len(df[df[\"y\"] == 0])/len(df[df[\"y\"]==1])"
      ]
    },
    {
      "cell_type": "markdown",
      "metadata": {
        "id": "RNzzpTUyccIj"
      },
      "source": [
        "## Creation of X and Y"
      ]
    },
    {
      "cell_type": "code",
      "execution_count": 20,
      "metadata": {
        "id": "CfU9DNrhyVzh"
      },
      "outputs": [],
      "source": [
        "dependent_variable = 'y'\n",
        "\n",
        "# Creating the dataset with all independent variables\n",
        "independent_variables = list(set(df.columns.tolist()) - {dependent_variable})\n",
        "\n",
        "# Create the data of independent variables\n",
        "X = df[independent_variables].copy()\n",
        "# Create the data of dependent variable\n",
        "y = df[dependent_variable].copy()"
      ]
    },
    {
      "cell_type": "code",
      "execution_count": 21,
      "metadata": {
        "id": "1a11bbb2-a29b-4fb4-bc4c-f4ded13a5c43"
      },
      "outputs": [],
      "source": [
        "# Splitting dataset into training set and test set\n",
        "from sklearn.model_selection import train_test_split, GridSearchCV\n",
        "X_train, X_test, y_train, y_test= train_test_split(X, y, test_size=0.2, random_state=42)"
      ]
    },
    {
      "cell_type": "code",
      "execution_count": 22,
      "metadata": {
        "colab": {
          "base_uri": "https://localhost:8080/"
        },
        "id": "129939fa-7388-4ea9-8972-135af3c4fd7f",
        "outputId": "eec7e65a-d425-45cc-8551-ee40acb993ff"
      },
      "outputs": [
        {
          "output_type": "stream",
          "name": "stdout",
          "text": [
            "Shape of X_train : (36168, 36)\n",
            "Shape of X_test : (9043, 36)\n",
            "Shape of y_train : (36168,)\n",
            "Shape of y_test : (9043,)\n"
          ]
        }
      ],
      "source": [
        "# Checking shape of split\n",
        "print(f'Shape of X_train : {X_train.shape}')\n",
        "print(f'Shape of X_test : {X_test.shape}')\n",
        "print(f'Shape of y_train : {y_train.shape}')\n",
        "print(f'Shape of y_test : {y_test.shape}')"
      ]
    },
    {
      "cell_type": "markdown",
      "metadata": {
        "id": "LC7msOZ3zo4F"
      },
      "source": [
        "## Feature Selection"
      ]
    },
    {
      "cell_type": "markdown",
      "metadata": {
        "id": "1A5QFkG-z9Wt"
      },
      "source": [
        "## ANOVA for regression features vs categorical output"
      ]
    },
    {
      "cell_type": "code",
      "execution_count": 23,
      "metadata": {
        "colab": {
          "base_uri": "https://localhost:8080/",
          "height": 447
        },
        "id": "YRMKRW8b2m3O",
        "outputId": "da73450c-df5d-4bdb-e7f5-d5301769fd71"
      },
      "outputs": [
        {
          "output_type": "execute_result",
          "data": {
            "text/plain": [
              "<Axes: >"
            ]
          },
          "metadata": {},
          "execution_count": 23
        },
        {
          "output_type": "display_data",
          "data": {
            "text/plain": [
              "<Figure size 640x480 with 1 Axes>"
            ],
            "image/png": "[encoded data removed]"
          },
          "metadata": {}
        }
      ],
      "source": [
        "from sklearn.feature_selection import SelectKBest\n",
        "from sklearn.feature_selection import f_classif\n",
        "\n",
        "numericals = main_df[num_cols]\n",
        "y = main_df[\"y\"]\n",
        "\n",
        "scores = f_classif(numericals, y)\n",
        "\n",
        "feat_importance = pd.Series(scores[0], numericals.columns[:])\n",
        "feat_importance = feat_importance.sort_values(ascending=True)\n",
        "feat_importance.plot(kind='barh', color='teal')"
      ]
    },
    {
      "cell_type": "code",
      "execution_count": 24,
      "metadata": {
        "colab": {
          "base_uri": "https://localhost:8080/"
        },
        "id": "HeYUZhfPF5vO",
        "outputId": "dabd7584-feb2-4750-cb2c-3f2d87101279"
      },
      "outputs": [
        {
          "output_type": "execute_result",
          "data": {
            "text/plain": [
              "(['age', 'balance', 'day', 'duration', 'campaign', 'pdays', 'previous'],\n",
              " array([  28.62523309,  126.57227551,   36.35900965, 8333.76114833,\n",
              "         243.35840443,  490.69656268,  396.44398944]),\n",
              " array([8.82564369e-008, 2.52111369e-029, 1.65388016e-009, 0.00000000e+000,\n",
              "        1.01234736e-054, 3.79055332e-108, 7.80183035e-088]))"
            ]
          },
          "metadata": {},
          "execution_count": 24
        }
      ],
      "source": [
        "num_cols, scores[0], scores[1]"
      ]
    },
    {
      "cell_type": "markdown",
      "metadata": {
        "id": "eeywR1HIF3Wf"
      },
      "source": [
        "We can ignore age and day"
      ]
    },
    {
      "cell_type": "markdown",
      "metadata": {
        "id": "SThYie6JGSal"
      },
      "source": [
        "## Chi Square Test"
      ]
    },
    {
      "cell_type": "code",
      "execution_count": 25,
      "metadata": {
        "id": "aPS6l0ep66sT"
      },
      "outputs": [],
      "source": [
        "from sklearn.feature_selection import chi2\n",
        "\n",
        "df2 = main_df[main_df.columns.difference(num_cols + [\"y\"])]\n",
        "# df2 = X_train[X_train.columns.difference(num_cols + [\"y\"])]\n",
        "for column in df2.columns.tolist():\n",
        "    df2[column] = pd.factorize(df2[column])[0]\n",
        "\n",
        "scores = chi2(df2, main_df[\"y\"])\n",
        "p_value=pd.Series(scores[1],index=df2.columns)\n",
        "p_value.sort_values(ascending=True,inplace=True)"
      ]
    },
    {
      "cell_type": "code",
      "execution_count": 26,
      "metadata": {
        "colab": {
          "base_uri": "https://localhost:8080/"
        },
        "id": "yxbN-zcmbArC",
        "outputId": "3e16e719-ad0f-4c2e-eb48-faffcbd4e966"
      },
      "outputs": [
        {
          "output_type": "execute_result",
          "data": {
            "text/plain": [
              "(Index(['contact', 'default', 'education', 'housing', 'job', 'loan', 'marital',\n",
              "        'month', 'poutcome'],\n",
              "       dtype='object'),\n",
              " array([ 300.16114197,   22.31387496,  139.19123106,  486.74400336,\n",
              "          61.73393822,  176.51613693,   81.31499116, 4317.61836343,\n",
              "        5113.20466715]),\n",
              " array([3.03853326e-067, 2.31527677e-006, 4.00015072e-032, 7.28257003e-108,\n",
              "        3.93145402e-015, 2.79337524e-040, 1.92461078e-019, 0.00000000e+000,\n",
              "        0.00000000e+000]))"
            ]
          },
          "metadata": {},
          "execution_count": 26
        }
      ],
      "source": [
        "df2.columns, scores[0], scores[1]"
      ]
    },
    {
      "cell_type": "code",
      "execution_count": 27,
      "metadata": {
        "colab": {
          "base_uri": "https://localhost:8080/",
          "height": 541
        },
        "id": "9sy_BM8-7VmL",
        "outputId": "bf660af2-eaac-4bfa-ef59-f779d0755dbf"
      },
      "outputs": [
        {
          "output_type": "display_data",
          "data": {
            "text/plain": [
              "<Figure size 640x480 with 1 Axes>"
            ],
            "image/png": "[encoded data removed]"
          },
          "metadata": {}
        }
      ],
      "source": [
        "p_value.plot(kind=\"bar\")\n",
        "plt.xlabel(\"Features\",fontsize=20)\n",
        "plt.ylabel(\"p_values\",fontsize=20)\n",
        "plt.title(\"chi squared test base on p value\")\n",
        "# plt.axhline(y=0.05, color=\"r\")\n",
        "plt.show()"
      ]
    },
    {
      "cell_type": "markdown",
      "metadata": {
        "id": "QM25jbOw9otS"
      },
      "source": [
        "None below 0.05, so keep all"
      ]
    },
    {
      "cell_type": "code",
      "execution_count": 28,
      "metadata": {
        "id": "15QxdZPjh5Md"
      },
      "outputs": [],
      "source": [
        "drop_cols = [j for j in X.columns.tolist() if \"job\" in j.split(\"_\") or \"default\" in j]"
      ]
    },
    {
      "cell_type": "code",
      "execution_count": 29,
      "metadata": {
        "colab": {
          "base_uri": "https://localhost:8080/"
        },
        "id": "2l7oOFlfihN6",
        "outputId": "31e19510-dd54-4403-bd26-36d17548be2f"
      },
      "outputs": [
        {
          "output_type": "execute_result",
          "data": {
            "text/plain": [
              "['job_technician',\n",
              " 'job_management',\n",
              " 'default',\n",
              " 'job_blue-collar',\n",
              " 'job_housemaid',\n",
              " 'job_retired',\n",
              " 'job_unemployed',\n",
              " 'job_self-employed',\n",
              " 'job_services',\n",
              " 'job_student',\n",
              " 'job_entrepreneur']"
            ]
          },
          "metadata": {},
          "execution_count": 29
        }
      ],
      "source": [
        "drop_cols"
      ]
    },
    {
      "cell_type": "code",
      "execution_count": 30,
      "metadata": {
        "id": "oin01y22VVhp"
      },
      "outputs": [],
      "source": [
        "X_train_2 = X_train.drop([\"age\", \"day\"], axis=1)\n",
        "X_test_2 = X_test.drop([\"age\",\"day\"], axis=1)"
      ]
    },
    {
      "cell_type": "markdown",
      "metadata": {
        "id": "te7ibOB0cn1l"
      },
      "source": [
        "## Scaling"
      ]
    },
    {
      "cell_type": "code",
      "execution_count": 31,
      "metadata": {
        "id": "_WxX6OXWat9f"
      },
      "outputs": [],
      "source": [
        "from sklearn.preprocessing import StandardScaler, MinMaxScaler\n",
        "\n",
        "scaler = MinMaxScaler()\n",
        "\n",
        "X_train = scaler.fit_transform(X_train)\n",
        "X_test = scaler.transform(X_test)"
      ]
    },
    {
      "cell_type": "code",
      "execution_count": 32,
      "metadata": {
        "id": "d4uzzVDXWlHp"
      },
      "outputs": [],
      "source": [
        "scaler2 = MinMaxScaler()\n",
        "\n",
        "X_train_2 = scaler2.fit_transform(X_train_2)\n",
        "X_test_2 = scaler2.transform(X_test_2)"
      ]
    },
    {
      "cell_type": "markdown",
      "metadata": {
        "id": "sYfn7PYWc3FX"
      },
      "source": [
        "# Models"
      ]
    },
    {
      "cell_type": "code",
      "execution_count": 33,
      "metadata": {
        "id": "5p32wTFaazyS"
      },
      "outputs": [],
      "source": [
        "# Import evaluation metrics\n",
        "from sklearn.metrics import confusion_matrix, accuracy_score, precision_score, recall_score, f1_score, roc_auc_score, roc_curve, auc\n",
        "\n",
        "# Defining function\n",
        "def classification_model(X_train, X_test, y_train, y_test, clf):\n",
        "    \"\"\"\n",
        "    function fit the algorithm on the training set, evaluate the model, and visualise evaluation metrics\n",
        "    \"\"\"\n",
        "    ## Fit the model using training dataset\n",
        "    model=clf.fit(X_train, y_train)\n",
        "    print(model)\n",
        "    print('=='*45)\n",
        "\n",
        "    ## Make predictions\n",
        "    y_train_pred = model.predict(X_train)\n",
        "    y_test_pred = model.predict(X_test)\n",
        "\n",
        "    ## Evaluate the model\n",
        "    print('Training set evaluation result :\\n')\n",
        "    cm_train = confusion_matrix(y_train, y_train_pred)\n",
        "    accuracy_train = accuracy_score(y_train, y_train_pred)\n",
        "    precision_train = precision_score(y_train, y_train_pred)\n",
        "    recall_train = recall_score(y_train, y_train_pred)\n",
        "    f1_train = f1_score(y_train, y_train_pred)\n",
        "    roc_auc_score_train=roc_auc_score(y_train, y_train_pred)\n",
        "    print(\"Confusion Matrix: \\n\", cm_train)\n",
        "    print(\"Accuracy: \", accuracy_train)\n",
        "    print(\"Precision: \", precision_train)\n",
        "    print(\"Recall: \", recall_train)\n",
        "    print(\"F1 Score: \", f1_train)\n",
        "    print(\"roc_auc_score: \", roc_auc_score_train)\n",
        "    print('\\n-------------------------------\\n')\n",
        "    print('Test set evaluation result :\\n')\n",
        "    cm_test = confusion_matrix(y_test, y_test_pred)\n",
        "    accuracy_test = accuracy_score(y_test, y_test_pred)\n",
        "    precision_test = precision_score(y_test, y_test_pred)\n",
        "    recall_test = recall_score(y_test, y_test_pred)\n",
        "    f1_test = f1_score(y_test, y_test_pred)\n",
        "    roc_auc_score_test=roc_auc_score(y_test, y_test_pred)\n",
        "    print(\"Confusion Matrix: \\n\", cm_test)\n",
        "    print(\"Accuracy: \", accuracy_test)\n",
        "    print(\"Precision: \", precision_test)\n",
        "    print(\"Recall: \", recall_test)\n",
        "    print(\"F1 Score: \", f1_test)\n",
        "    print(\"roc_auc_score: \", roc_auc_score_test)\n",
        "    print('=='*45)\n",
        "\n",
        "    ## Visualizes evaluation metrics\n",
        "    # fig,axes = plt.subplots(nrows=2, ncols=2)\n",
        "    # ax1 = sns.heatmap(cm_train, annot=True, ax=axes[0,0], fmt='d')\n",
        "    # ax1.set_title('Confusion Matrix for training set')\n",
        "    # ax1.set_ylabel('True label')\n",
        "    # ax1.set_xlabel('Predicted label')\n",
        "    # ax2 = sns.heatmap(cm_test, annot=True, ax=axes[0,1], fmt='d')\n",
        "    # ax2.set_title('Confusion Matrix for test set')\n",
        "    # ax2.set_ylabel('True label')\n",
        "    # ax2.set_xlabel('Predicted label')\n",
        "    # ax3 = sns.barplot(x=['Accuracy', 'Precision', 'Recall', 'F1','roc_auc_score'], y=[accuracy_train, precision_train, recall_train, f1_train, roc_auc_score_train], ax=axes[1,0])\n",
        "    # ax3.set_title('Evaluation Metrics for training set')\n",
        "    # ax3.tick_params(axis='x', rotation=90)\n",
        "    # ax4 = sns.barplot(x=['Accuracy', 'Precision', 'Recall', 'F1','roc_auc_score'], y=[accuracy_test, precision_test, recall_test, f1_test, roc_auc_score_test], ax=axes[1,1])\n",
        "    # ax4.set_title('Evaluation Metrics for test set')\n",
        "    # ax4.tick_params(axis='x', rotation=90)\n",
        "    # plt.tight_layout()\n",
        "    # plt.show()\n",
        "    # print('=='*45)\n",
        "\n",
        "    return {'model': model, 'y_train_pred': y_train_pred, 'y_test_pred': y_test_pred, 'cm_test': cm_test, 'accuracy_test': accuracy_test,\n",
        "            'precision_test': precision_test, 'recall_test': recall_test, 'f1_test': f1_test, 'roc_auc_score_test': roc_auc_score_test}"
      ]
    },
    {
      "cell_type": "code",
      "execution_count": 34,
      "metadata": {
        "id": "41616a70-2bfa-4554-9e52-cd31125259e4"
      },
      "outputs": [],
      "source": [
        "# Defining function which fit classification algoritham using GridSearchCV, evaluate and visualise model\n",
        "\n",
        "# Import necessary dependancy\n",
        "from sklearn.metrics import confusion_matrix, accuracy_score, precision_score, recall_score, f1_score, roc_auc_score, roc_curve, auc\n",
        "from sklearn.model_selection import GridSearchCV\n",
        "\n",
        "# Defining function\n",
        "def classification_CV_model(X_train, X_test, y_train, y_test, clf, param_grid):\n",
        "    \"\"\"\n",
        "    function fit the algorithm using GridSearchCV on the training set, evaluate the model, and visualise evaluation metrics\n",
        "    \"\"\"\n",
        "    ## Fit the model on training dataset\n",
        "    classifier = clf\n",
        "    model = GridSearchCV(classifier, param_grid, verbose=1, scoring='accuracy', cv=3, n_jobs=-1)\n",
        "    model.fit(X_train, y_train)\n",
        "    print(model)\n",
        "    print('=='*45)\n",
        "\n",
        "    # Print the best parameters and score\n",
        "    print(\"Best parameters:\", model.best_params_)\n",
        "    print(\"Best score:\", model.best_score_)\n",
        "    print('=='*45)\n",
        "\n",
        "    ## Make predictions\n",
        "    y_train_pred = model.predict(X_train)\n",
        "    y_test_pred = model.predict(X_test)\n",
        "\n",
        "    ## Evaluate the model\n",
        "    print('Training set evaluation result :\\n')\n",
        "    cm_train = confusion_matrix(y_train, y_train_pred)\n",
        "    accuracy_train = accuracy_score(y_train, y_train_pred)\n",
        "    precision_train = precision_score(y_train, y_train_pred)\n",
        "    recall_train = recall_score(y_train, y_train_pred)\n",
        "    f1_train = f1_score(y_train, y_train_pred)\n",
        "    roc_auc_score_train=roc_auc_score(y_train, y_train_pred)\n",
        "    print(\"Confusion Matrix: \\n\", cm_train)\n",
        "    print(\"Accuracy: \", accuracy_train)\n",
        "    print(\"Precision: \", precision_train)\n",
        "    print(\"Recall: \", recall_train)\n",
        "    print(\"F1 Score: \", f1_train)\n",
        "    print(\"roc_auc_score: \", roc_auc_score_train)\n",
        "    print('\\n-------------------------------\\n')\n",
        "    print('Test set evaluation result :\\n')\n",
        "    cm_test = confusion_matrix(y_test, y_test_pred)\n",
        "    accuracy_test = accuracy_score(y_test, y_test_pred)\n",
        "    precision_test = precision_score(y_test, y_test_pred)\n",
        "    recall_test = recall_score(y_test, y_test_pred)\n",
        "    f1_test = f1_score(y_test, y_test_pred)\n",
        "    roc_auc_score_test=roc_auc_score(y_test, y_test_pred)\n",
        "    print(\"Confusion Matrix: \\n\", cm_test)\n",
        "    print(\"Accuracy: \", accuracy_test)\n",
        "    print(\"Precision: \", precision_test)\n",
        "    print(\"Recall: \", recall_test)\n",
        "    print(\"F1 Score: \", f1_test)\n",
        "    print(\"roc_auc_score: \", roc_auc_score_test)\n",
        "    print('=='*45)\n",
        "\n",
        "    # ## Visualizes evaluation metrics\n",
        "    # fig,axes = plt.subplots(nrows=2, ncols=2)\n",
        "    # ax1 = sns.heatmap(cm_train, annot=True, ax=axes[0,0], fmt='d')\n",
        "    # ax1.set_title('Confusion Matrix for training set')\n",
        "    # ax1.set_ylabel('True label')\n",
        "    # ax1.set_xlabel('Predicted label')\n",
        "    # ax2 = sns.heatmap(cm_test, annot=True, ax=axes[0,1], fmt='d')\n",
        "    # ax2.set_title('Confusion Matrix for test set')\n",
        "    # ax2.set_ylabel('True label')\n",
        "    # ax2.set_xlabel('Predicted label')\n",
        "    # ax3 = sns.barplot(x=['Accuracy', 'Precision', 'Recall', 'F1','roc_auc_score'], y=[accuracy_train, precision_train, recall_train, f1_train, roc_auc_score_train], ax=axes[1,0])\n",
        "    # ax3.set_title('Evaluation Metrics for training set')\n",
        "    # ax3.tick_params(axis='x', rotation=90)\n",
        "    # ax4 = sns.barplot(x=['Accuracy', 'Precision', 'Recall', 'F1','roc_auc_score'], y=[accuracy_test, precision_test, recall_test, f1_test, roc_auc_score_test], ax=axes[1,1])\n",
        "    # ax4.set_title('Evaluation Metrics for test set')\n",
        "    # ax4.tick_params(axis='x', rotation=90)\n",
        "    # plt.tight_layout()\n",
        "    # plt.show()\n",
        "    # print('=='*45)\n",
        "\n",
        "    return {'model': model, 'y_train_pred': y_train_pred, 'y_test_pred': y_test_pred, 'cm_test': cm_test, 'accuracy_test': accuracy_test,\n",
        "            'precision_test': precision_test, 'recall_test': recall_test, 'f1_test': f1_test, 'roc_auc_score_test': roc_auc_score_test}"
      ]
    },
    {
      "cell_type": "code",
      "execution_count": 35,
      "metadata": {
        "id": "175d02a1-68da-44e5-ab14-7650083d0f8d"
      },
      "outputs": [],
      "source": [
        "# Defining function to plot ROC curve\n",
        "def plot_roc_curve(y_test, y_pred):\n",
        "    \"\"\"\n",
        "    plots the roc curve\n",
        "    \"\"\"\n",
        "    # Generate a list of false and true positive rates\n",
        "    fpr, tpr, thresholds = roc_curve(y_test, y_pred)\n",
        "    # Calculate the area under the curve (AUC)\n",
        "    roc_auc = auc(fpr, tpr)\n",
        "    # Plotting the ROC curve\n",
        "    plt.figure(figsize=(5,5))\n",
        "    plt.plot(fpr, tpr, label='ROC curve (AUC = %0.4f)' % roc_auc)\n",
        "    plt.plot([0, 1], [0, 1],'r--')\n",
        "    # Labeling the graph\n",
        "    plt.xlabel('False Positive Rate (Precision)')\n",
        "    plt.ylabel('True Positive Rate (Recall)')\n",
        "    plt.title('Receiver Operating Characteristic Curve')\n",
        "    plt.legend(loc=\"lower right\")\n",
        "    # Show the plot\n",
        "    plt.show()"
      ]
    },
    {
      "cell_type": "markdown",
      "metadata": {
        "id": "kheNCo2oe6kz"
      },
      "source": [
        "## Baseline Model (Logistic Regression)"
      ]
    },
    {
      "cell_type": "markdown",
      "metadata": {
        "id": "tC2APBQog5HU"
      },
      "source": [
        "### Vanilla Logistic Regression"
      ]
    },
    {
      "cell_type": "code",
      "execution_count": null,
      "metadata": {
        "colab": {
          "base_uri": "https://localhost:8080/"
        },
        "id": "60VictHRs8wP",
        "outputId": "06dd78a6-5642-4b56-9b37-b502ec19e738"
      },
      "outputs": [
        {
          "name": "stdout",
          "output_type": "stream",
          "text": [
            "LogisticRegression(max_iter=10000, random_state=0)\n",
            "==========================================================================================\n",
            "Training set evaluation result :\n",
            "\n",
            "Confusion Matrix: \n",
            " [[31079   891]\n",
            " [ 3032  1166]]\n",
            "Accuracy:  0.8915339526653395\n",
            "Precision:  0.5668449197860963\n",
            "Recall:  0.2777513101476894\n",
            "F1 Score:  0.37282174260591533\n",
            "roc_auc_score:  0.6249407160685272\n",
            "\n",
            "-------------------------------\n",
            "\n",
            "Test set evaluation result :\n",
            "\n",
            "Confusion Matrix: \n",
            " [[7726  226]\n",
            " [ 790  301]]\n",
            "Accuracy:  0.8876479044564857\n",
            "Precision:  0.571157495256167\n",
            "Recall:  0.2758936755270394\n",
            "F1 Score:  0.37206427688504323\n",
            "roc_auc_score:  0.6237365761941032\n",
            "==========================================================================================\n"
          ]
        }
      ],
      "source": [
        "# Import Logistic Regression algoritham in envirnoment\n",
        "from sklearn.linear_model import LogisticRegression\n",
        "# Fitting Logistic Regression model to training set\n",
        "Logistic_regression=LogisticRegression(fit_intercept=True, max_iter=10000,random_state=0)\n",
        "lr=classification_model(X_train, X_test, y_train, y_test, Logistic_regression)"
      ]
    },
    {
      "cell_type": "code",
      "execution_count": null,
      "metadata": {
        "colab": {
          "base_uri": "https://localhost:8080/"
        },
        "id": "vFKZkESuW2cQ",
        "outputId": "b0aaf7d3-7189-46c0-b3d2-7d51e956b608"
      },
      "outputs": [
        {
          "name": "stdout",
          "output_type": "stream",
          "text": [
            "LogisticRegression(max_iter=10000, random_state=0)\n",
            "==========================================================================================\n",
            "Training set evaluation result :\n",
            "\n",
            "Confusion Matrix: \n",
            " [[31080   890]\n",
            " [ 3035  1163]]\n",
            "Accuracy:  0.8914786551647865\n",
            "Precision:  0.5664880662445202\n",
            "Recall:  0.2770366841353025\n",
            "F1 Score:  0.3721004639257719\n",
            "roc_auc_score:  0.624599042724517\n",
            "\n",
            "-------------------------------\n",
            "\n",
            "Test set evaluation result :\n",
            "\n",
            "Confusion Matrix: \n",
            " [[7724  228]\n",
            " [ 787  304]]\n",
            "Accuracy:  0.8877584872276899\n",
            "Precision:  0.5714285714285714\n",
            "Recall:  0.27864344637946836\n",
            "F1 Score:  0.37461491065927294\n",
            "roc_auc_score:  0.6249857070931547\n",
            "==========================================================================================\n"
          ]
        }
      ],
      "source": [
        "Logistic_regression=LogisticRegression(fit_intercept=True, max_iter=10000,random_state=0)\n",
        "lr=classification_model(X_train_2, X_test_2, y_train, y_test, Logistic_regression)"
      ]
    },
    {
      "cell_type": "markdown",
      "metadata": {
        "id": "0pClu21SXE9x"
      },
      "source": [
        "Feature dropping does better"
      ]
    },
    {
      "cell_type": "markdown",
      "metadata": {
        "id": "_sx_MXkGg86l"
      },
      "source": [
        "### Grid Search"
      ]
    },
    {
      "cell_type": "code",
      "execution_count": null,
      "metadata": {
        "colab": {
          "base_uri": "https://localhost:8080/"
        },
        "id": "c92a3fa5-1663-407c-9935-95a2de6f6280",
        "outputId": "3ce89e7c-ad44-479d-f129-0f7b4590ae48"
      },
      "outputs": [
        {
          "name": "stdout",
          "output_type": "stream",
          "text": [
            "Fitting 3 folds for each of 7 candidates, totalling 21 fits\n",
            "GridSearchCV(cv=3, estimator=LogisticRegression(max_iter=10000, random_state=0),\n",
            "             n_jobs=-1, param_grid={'C': [0.001, 0.01, 0.1, 1, 10, 100, 1000]},\n",
            "             scoring='accuracy', verbose=1)\n",
            "==========================================================================================\n",
            "Best parameters: {'C': 10}\n",
            "Best score: 0.8911745189117452\n",
            "==========================================================================================\n",
            "Training set evaluation result :\n",
            "\n",
            "Confusion Matrix: \n",
            " [[31067   903]\n",
            " [ 3024  1174]]\n",
            "Accuracy:  0.8914233576642335\n",
            "Precision:  0.5652383245064998\n",
            "Recall:  0.2796569795140543\n",
            "F1 Score:  0.37418326693227094\n",
            "roc_auc_score:  0.6257058748055101\n",
            "\n",
            "-------------------------------\n",
            "\n",
            "Test set evaluation result :\n",
            "\n",
            "Confusion Matrix: \n",
            " [[7721  231]\n",
            " [ 782  309]]\n",
            "Accuracy:  0.8879796527700984\n",
            "Precision:  0.5722222222222222\n",
            "Recall:  0.2832263978001833\n",
            "F1 Score:  0.37890864500306565\n",
            "roc_auc_score:  0.6270885510127678\n",
            "==========================================================================================\n"
          ]
        }
      ],
      "source": [
        "## Import Logistic Regression algoritham in envirnoment\n",
        "from sklearn.linear_model import LogisticRegression\n",
        "\n",
        "## Fitting Logistic Regression model to training set using cross validation\n",
        "\n",
        "# Defined param_dict\n",
        "param_grid ={'C': [0.001, 0.01, 0.1, 1, 10, 100, 1000] }\n",
        "# Creating instance of Logistic Regression classifier\n",
        "Logistic_regression=LogisticRegression(fit_intercept=True, max_iter=10000,random_state=0)\n",
        "# Fitting model\n",
        "lr_cv=classification_CV_model(X_train, X_test, y_train, y_test, Logistic_regression, param_grid)"
      ]
    },
    {
      "cell_type": "code",
      "execution_count": null,
      "metadata": {
        "colab": {
          "base_uri": "https://localhost:8080/"
        },
        "id": "NkrrXJOZXKNx",
        "outputId": "ff59777c-068e-4b58-c6e6-be3965bac99c"
      },
      "outputs": [
        {
          "name": "stdout",
          "output_type": "stream",
          "text": [
            "Fitting 3 folds for each of 7 candidates, totalling 21 fits\n",
            "GridSearchCV(cv=3, estimator=LogisticRegression(max_iter=10000, random_state=0),\n",
            "             n_jobs=-1, param_grid={'C': [0.001, 0.01, 0.1, 1, 10, 100, 1000]},\n",
            "             scoring='accuracy', verbose=1)\n",
            "==========================================================================================\n",
            "Best parameters: {'C': 1}\n",
            "Best score: 0.8910362751603627\n",
            "==========================================================================================\n",
            "Training set evaluation result :\n",
            "\n",
            "Confusion Matrix: \n",
            " [[31080   890]\n",
            " [ 3035  1163]]\n",
            "Accuracy:  0.8914786551647865\n",
            "Precision:  0.5664880662445202\n",
            "Recall:  0.2770366841353025\n",
            "F1 Score:  0.3721004639257719\n",
            "roc_auc_score:  0.624599042724517\n",
            "\n",
            "-------------------------------\n",
            "\n",
            "Test set evaluation result :\n",
            "\n",
            "Confusion Matrix: \n",
            " [[7724  228]\n",
            " [ 787  304]]\n",
            "Accuracy:  0.8877584872276899\n",
            "Precision:  0.5714285714285714\n",
            "Recall:  0.27864344637946836\n",
            "F1 Score:  0.37461491065927294\n",
            "roc_auc_score:  0.6249857070931547\n",
            "==========================================================================================\n"
          ]
        }
      ],
      "source": [
        "Logistic_regression=LogisticRegression(fit_intercept=True, max_iter=10000,random_state=0)\n",
        "# Fitting model\n",
        "lr_cv=classification_CV_model(X_train_2, X_test_2, y_train, y_test, Logistic_regression, param_grid)"
      ]
    },
    {
      "cell_type": "markdown",
      "metadata": {
        "id": "riNw3Z9IhDaE"
      },
      "source": [
        "### With Weighted Loss"
      ]
    },
    {
      "cell_type": "code",
      "execution_count": null,
      "metadata": {
        "colab": {
          "base_uri": "https://localhost:8080/"
        },
        "id": "lOqMT2DQfbMD",
        "outputId": "a9e26b48-5999-4e37-ea2f-f8d0260f0246"
      },
      "outputs": [
        {
          "name": "stdout",
          "output_type": "stream",
          "text": [
            "LogisticRegression(class_weight={0: 1, 1: 7.6}, max_iter=10000, random_state=0)\n",
            "==========================================================================================\n",
            "Training set evaluation result :\n",
            "\n",
            "Confusion Matrix: \n",
            " [[25950  6020]\n",
            " [  748  3450]]\n",
            "Accuracy:  0.8128732581287326\n",
            "Precision:  0.36430834213305174\n",
            "Recall:  0.8218199142448785\n",
            "F1 Score:  0.504828797190518\n",
            "roc_auc_score:  0.8167591907789922\n",
            "\n",
            "-------------------------------\n",
            "\n",
            "Test set evaluation result :\n",
            "\n",
            "Confusion Matrix: \n",
            " [[6430 1522]\n",
            " [ 201  890]]\n",
            "Accuracy:  0.8094658852150834\n",
            "Precision:  0.36898839137645106\n",
            "Recall:  0.8157653528872594\n",
            "F1 Score:  0.5081358835284042\n",
            "roc_auc_score:  0.8121834812726035\n",
            "==========================================================================================\n"
          ]
        }
      ],
      "source": [
        "# Import Logistic Regression algoritham in envirnoment\n",
        "from sklearn.linear_model import LogisticRegression\n",
        "# Fitting Logistic Regression model to training set\n",
        "\n",
        "class_weights = {\n",
        "    0: 1, # majority class\n",
        "    1: 7.6 # minority class\n",
        "}\n",
        "\n",
        "Logistic_regression=LogisticRegression(fit_intercept=True, max_iter=10000,random_state=0, class_weight=class_weights)\n",
        "lr=classification_model(X_train, X_test, y_train, y_test, Logistic_regression)"
      ]
    },
    {
      "cell_type": "code",
      "execution_count": null,
      "metadata": {
        "colab": {
          "base_uri": "https://localhost:8080/"
        },
        "id": "bxAFCE0-oIbq",
        "outputId": "5153a514-ffc2-45a0-d609-e133e6bd8676"
      },
      "outputs": [
        {
          "name": "stdout",
          "output_type": "stream",
          "text": [
            "LogisticRegression(class_weight={0: 1, 1: 7.6}, max_iter=10000, random_state=0)\n",
            "==========================================================================================\n",
            "Training set evaluation result :\n",
            "\n",
            "Confusion Matrix: \n",
            " [[25952  6018]\n",
            " [  751  3447]]\n",
            "Accuracy:  0.8128456093784561\n",
            "Precision:  0.3641838351822504\n",
            "Recall:  0.8211052882324916\n",
            "F1 Score:  0.504574398009222\n",
            "roc_auc_score:  0.8164331570971654\n",
            "\n",
            "-------------------------------\n",
            "\n",
            "Test set evaluation result :\n",
            "\n",
            "Confusion Matrix: \n",
            " [[6428 1524]\n",
            " [ 203  888]]\n",
            "Accuracy:  0.8090235541302665\n",
            "Precision:  0.3681592039800995\n",
            "Recall:  0.8139321723189734\n",
            "F1 Score:  0.5069940051384527\n",
            "roc_auc_score:  0.8111411364612976\n",
            "==========================================================================================\n"
          ]
        }
      ],
      "source": [
        "Logistic_regression=LogisticRegression(fit_intercept=True, max_iter=10000,random_state=0, class_weight=class_weights)\n",
        "lr=classification_model(X_train_2, X_test_2, y_train, y_test, Logistic_regression)"
      ]
    },
    {
      "cell_type": "markdown",
      "metadata": {
        "id": "M2fFhKlhlyr_"
      },
      "source": [
        "## Using SMOTE"
      ]
    },
    {
      "cell_type": "code",
      "execution_count": 43,
      "metadata": {
        "id": "12AAk4JyndSb"
      },
      "outputs": [],
      "source": [
        "from imblearn.over_sampling import SMOTE\n",
        "smote = SMOTE(random_state=0)\n",
        "\n",
        "# fit predictor and target variable\n",
        "x_smote, y_smote = smote.fit_resample(X_train,y_train)\n",
        "x_smote.shape, y_smote.shape, X_test.shape, y_test.shape\n",
        "\n",
        "x_smote_2, y_smote_2 = smote.fit_resample(X_train_2,y_train)"
      ]
    },
    {
      "cell_type": "code",
      "execution_count": null,
      "metadata": {
        "colab": {
          "base_uri": "https://localhost:8080/"
        },
        "id": "JKNCBYiLj-Qx",
        "outputId": "c67d0cc4-9704-4e8a-c6e6-8e99875b2d32"
      },
      "outputs": [
        {
          "name": "stdout",
          "output_type": "stream",
          "text": [
            "Fitting 3 folds for each of 7 candidates, totalling 21 fits\n",
            "GridSearchCV(cv=3, estimator=LogisticRegression(max_iter=10000, random_state=0),\n",
            "             n_jobs=-1, param_grid={'C': [0.001, 0.01, 0.1, 1, 10, 100, 1000]},\n",
            "             scoring='accuracy', verbose=1)\n",
            "==========================================================================================\n",
            "Best parameters: {'C': 100}\n",
            "Best score: 0.8333750952745419\n",
            "==========================================================================================\n",
            "Training set evaluation result :\n",
            "\n",
            "Confusion Matrix: \n",
            " [[26130  5840]\n",
            " [ 4792 27178]]\n",
            "Accuracy:  0.833719111667188\n",
            "Precision:  0.8231267793324853\n",
            "Recall:  0.8501094776352831\n",
            "F1 Score:  0.8364005662583861\n",
            "roc_auc_score:  0.8337191116671879\n",
            "\n",
            "-------------------------------\n",
            "\n",
            "Test set evaluation result :\n",
            "\n",
            "Confusion Matrix: \n",
            " [[6456 1496]\n",
            " [ 210  881]]\n",
            "Accuracy:  0.8113457923255557\n",
            "Precision:  0.37063525452250734\n",
            "Recall:  0.8075160403299725\n",
            "F1 Score:  0.508073817762399\n",
            "roc_auc_score:  0.8096936338470787\n",
            "==========================================================================================\n"
          ]
        }
      ],
      "source": [
        "param_grid ={'C': [0.001, 0.01, 0.1, 1, 10, 100, 1000] }\n",
        "# Creating instance of Logistic Regression classifier\n",
        "Logistic_regression=LogisticRegression(fit_intercept=True, max_iter=10000,random_state=0)\n",
        "# Fitting model\n",
        "lr_cv=classification_CV_model(x_smote, X_test, y_smote, y_test, Logistic_regression, param_grid)"
      ]
    },
    {
      "cell_type": "code",
      "execution_count": null,
      "metadata": {
        "colab": {
          "base_uri": "https://localhost:8080/"
        },
        "id": "w8q8pBqZXyTI",
        "outputId": "eaa098fe-765d-4801-eb5e-e70d1c5b8045"
      },
      "outputs": [
        {
          "name": "stdout",
          "output_type": "stream",
          "text": [
            "Fitting 3 folds for each of 7 candidates, totalling 21 fits\n",
            "GridSearchCV(cv=3, estimator=LogisticRegression(max_iter=10000, random_state=0),\n",
            "             n_jobs=-1, param_grid={'C': [0.001, 0.01, 0.1, 1, 10, 100, 1000]},\n",
            "             scoring='accuracy', verbose=1)\n",
            "==========================================================================================\n",
            "Best parameters: {'C': 1000}\n",
            "Best score: 0.8318736825677115\n",
            "==========================================================================================\n",
            "Training set evaluation result :\n",
            "\n",
            "Confusion Matrix: \n",
            " [[26126  5844]\n",
            " [ 4862 27108]]\n",
            "Accuracy:  0.832561776665624\n",
            "Precision:  0.8226511289147851\n",
            "Recall:  0.8479199249296215\n",
            "F1 Score:  0.8350944209975047\n",
            "roc_auc_score:  0.8325617766656239\n",
            "\n",
            "-------------------------------\n",
            "\n",
            "Test set evaluation result :\n",
            "\n",
            "Confusion Matrix: \n",
            " [[6461 1491]\n",
            " [ 209  882]]\n",
            "Accuracy:  0.8120092889527811\n",
            "Precision:  0.37168141592920356\n",
            "Recall:  0.8084326306141155\n",
            "F1 Score:  0.5092378752886836\n",
            "roc_auc_score:  0.8104663153070577\n",
            "==========================================================================================\n"
          ]
        }
      ],
      "source": [
        "param_grid ={'C': [0.001, 0.01, 0.1, 1, 10, 100, 1000] }\n",
        "# Creating instance of Logistic Regression classifier\n",
        "Logistic_regression=LogisticRegression(fit_intercept=True, max_iter=10000,random_state=0)\n",
        "# Fitting model\n",
        "lr_cv=classification_CV_model(x_smote_2, X_test_2, y_smote_2, y_test, Logistic_regression, param_grid)"
      ]
    },
    {
      "cell_type": "markdown",
      "metadata": {
        "id": "0R0nDNgB1cpP"
      },
      "source": [
        "Best results obtained with Grid Search & Cross Validation Logistic Regression"
      ]
    },
    {
      "cell_type": "markdown",
      "metadata": {
        "id": "AMbnvt6XYD0A"
      },
      "source": [
        "## SVM"
      ]
    },
    {
      "cell_type": "markdown",
      "metadata": {
        "id": "CUBHJyhUtyn3"
      },
      "source": [
        "Accuracy:  0.8879796527700984\n",
        "Precision:  0.6989795918367347\n",
        "Recall:  0.12557286892758937\n",
        "F1 Score:  0.2128982128982129\n",
        "roc_auc_score:  0.5590766759124869"
      ]
    },
    {
      "cell_type": "code",
      "execution_count": null,
      "metadata": {
        "colab": {
          "base_uri": "https://localhost:8080/"
        },
        "id": "i-Wjf8IjYFTH",
        "outputId": "80655d9b-ff96-46b6-a703-adbf5f8821a9"
      },
      "outputs": [
        {
          "name": "stdout",
          "output_type": "stream",
          "text": [
            "SVC(C=100, gamma=1)\n",
            "==========================================================================================\n",
            "Training set evaluation result :\n",
            "\n",
            "Confusion Matrix: \n",
            " [[31882    88]\n",
            " [  369  3829]]\n",
            "Accuracy:  0.9873645211236453\n",
            "Precision:  0.9775338269083482\n",
            "Recall:  0.9121010004764173\n",
            "F1 Score:  0.9436845348120764\n",
            "roc_auc_score:  0.9546742099660787\n",
            "\n",
            "-------------------------------\n",
            "\n",
            "Test set evaluation result :\n",
            "\n",
            "Confusion Matrix: \n",
            " [[7423  529]\n",
            " [ 616  475]]\n",
            "Accuracy:  0.873382726971138\n",
            "Precision:  0.47310756972111556\n",
            "Recall:  0.43538038496791936\n",
            "F1 Score:  0.45346062052505964\n",
            "roc_auc_score:  0.684428120049352\n",
            "==========================================================================================\n"
          ]
        }
      ],
      "source": [
        "# Import Support Vector Machine algoritham in envirnoment\n",
        "from sklearn.svm import SVC\n",
        "# Fitting Support Vector Machine algoritham to training set\n",
        "\n",
        "classifier_svm = SVC(kernel='rbf', C=100, gamma=1)\n",
        "svm=classification_model(X_train, X_test, y_train, y_test, classifier_svm)"
      ]
    },
    {
      "cell_type": "code",
      "execution_count": null,
      "metadata": {
        "colab": {
          "base_uri": "https://localhost:8080/"
        },
        "id": "XErzfNyFYwb5",
        "outputId": "aa364939-41f4-4145-9a50-a4c4f03ddadd"
      },
      "outputs": [
        {
          "name": "stdout",
          "output_type": "stream",
          "text": [
            "SVC(C=100, gamma=1)\n",
            "==========================================================================================\n",
            "Training set evaluation result :\n",
            "\n",
            "Confusion Matrix: \n",
            " [[31740   230]\n",
            " [ 1010  3188]]\n",
            "Accuracy:  0.9657155496571554\n",
            "Precision:  0.9327091866588648\n",
            "Recall:  0.7594092424964268\n",
            "F1 Score:  0.8371848739495799\n",
            "roc_auc_score:  0.8761074989460551\n",
            "\n",
            "-------------------------------\n",
            "\n",
            "Test set evaluation result :\n",
            "\n",
            "Confusion Matrix: \n",
            " [[7507  445]\n",
            " [ 676  415]]\n",
            "Accuracy:  0.8760367134800399\n",
            "Precision:  0.48255813953488375\n",
            "Recall:  0.38038496791934007\n",
            "F1 Score:  0.4254228600717581\n",
            "roc_auc_score:  0.6622121016659075\n",
            "==========================================================================================\n"
          ]
        }
      ],
      "source": [
        "from sklearn.svm import SVC\n",
        "# Fitting Support Vector Machine algoritham to training set\n",
        "classifier_svm = SVC(kernel='rbf', C=100, gamma=1)\n",
        "svm=classification_model(X_train_2, X_test_2, y_train, y_test, classifier_svm)"
      ]
    },
    {
      "cell_type": "markdown",
      "metadata": {
        "id": "d-8ZIuJd1oxm"
      },
      "source": [
        "## Random Forest"
      ]
    },
    {
      "cell_type": "code",
      "execution_count": 37,
      "metadata": {
        "colab": {
          "base_uri": "https://localhost:8080/"
        },
        "id": "Ar3nGT6e7JxS",
        "outputId": "96462069-793b-4788-e0a4-2f4520880368"
      },
      "outputs": [
        {
          "output_type": "stream",
          "name": "stdout",
          "text": [
            "Fitting 3 folds for each of 320 candidates, totalling 960 fits\n",
            "GridSearchCV(cv=3,\n",
            "             estimator=RandomForestClassifier(criterion='entropy',\n",
            "                                              max_leaf_nodes=10,\n",
            "                                              random_state=0),\n",
            "             n_jobs=-1,\n",
            "             param_grid={'max_depth': [2, 4, 6, 8],\n",
            "                         'min_samples_leaf': [10, 20, 40, 70, 100],\n",
            "                         'min_samples_split': [25, 50, 100, 150],\n",
            "                         'n_estimators': [25, 50, 75, 100]},\n",
            "             scoring='accuracy', verbose=1)\n",
            "==========================================================================================\n",
            "Best parameters: {'max_depth': 4, 'min_samples_leaf': 10, 'min_samples_split': 150, 'n_estimators': 25}\n",
            "Best score: 0.883958195089582\n",
            "==========================================================================================\n",
            "Training set evaluation result :\n",
            "\n",
            "Confusion Matrix: \n",
            " [[31969     1]\n",
            " [ 4198     0]]\n",
            "Accuracy:  0.883902897589029\n",
            "Precision:  0.0\n",
            "Recall:  0.0\n",
            "F1 Score:  0.0\n",
            "roc_auc_score:  0.4999843603378167\n",
            "\n",
            "-------------------------------\n",
            "\n",
            "Test set evaluation result :\n",
            "\n",
            "Confusion Matrix: \n",
            " [[7952    0]\n",
            " [1089    2]]\n",
            "Accuracy:  0.8795753621585757\n",
            "Precision:  1.0\n",
            "Recall:  0.0018331805682859762\n",
            "F1 Score:  0.003659652333028362\n",
            "roc_auc_score:  0.500916590284143\n",
            "==========================================================================================\n"
          ]
        }
      ],
      "source": [
        "# Import Random Forest algoritham in envirnoment\n",
        "from sklearn.ensemble import RandomForestClassifier\n",
        "\n",
        "## Fitting Random Forest model to training set using cross validation\n",
        "\n",
        "# Defining param_dict\n",
        "param_grid = {'n_estimators':[25, 50, 75, 100],\n",
        "              'max_depth':[2,4,6,8],\n",
        "              'min_samples_split':[25,50,100,150],\n",
        "              'min_samples_leaf':[10,20,40,70,100]}\n",
        "# Creating instance of Random Forest classifier\n",
        "classifier_rf = RandomForestClassifier(criterion='entropy', max_leaf_nodes=10, random_state=0)\n",
        "# Fitting model\n",
        "rf_cv=classification_CV_model(X_train, X_test, y_train, y_test, classifier_rf, param_grid)"
      ]
    },
    {
      "cell_type": "markdown",
      "source": [
        "## Gradient Boosting"
      ],
      "metadata": {
        "id": "3kg5MuKW_nAu"
      }
    },
    {
      "cell_type": "code",
      "execution_count": 38,
      "metadata": {
        "colab": {
          "base_uri": "https://localhost:8080/"
        },
        "id": "pB5EsNPTQPKd",
        "outputId": "d37ef15f-eb9d-408a-d5ee-df9c6eb29524"
      },
      "outputs": [
        {
          "output_type": "stream",
          "name": "stdout",
          "text": [
            "Fitting 3 folds for each of 54 candidates, totalling 162 fits\n",
            "GridSearchCV(cv=3, estimator=GradientBoostingClassifier(random_state=0),\n",
            "             n_jobs=-1,\n",
            "             param_grid={'max_depth': [4, 6, 8], 'min_samples_leaf': [40, 50],\n",
            "                         'min_samples_split': [50, 100, 150],\n",
            "                         'n_estimators': [50, 80, 100]},\n",
            "             scoring='accuracy', verbose=1)\n",
            "==========================================================================================\n",
            "Best parameters: {'max_depth': 8, 'min_samples_leaf': 40, 'min_samples_split': 100, 'n_estimators': 100}\n",
            "Best score: 0.8996073877460738\n",
            "==========================================================================================\n",
            "Training set evaluation result :\n",
            "\n",
            "Confusion Matrix: \n",
            " [[31296   674]\n",
            " [ 1726  2472]]\n",
            "Accuracy:  0.93364299933643\n",
            "Precision:  0.7857596948506039\n",
            "Recall:  0.5888518342067651\n",
            "F1 Score:  0.6732026143790849\n",
            "roc_auc_score:  0.7838847847918404\n",
            "\n",
            "-------------------------------\n",
            "\n",
            "Test set evaluation result :\n",
            "\n",
            "Confusion Matrix: \n",
            " [[7671  281]\n",
            " [ 607  484]]\n",
            "Accuracy:  0.9018024991706293\n",
            "Precision:  0.6326797385620915\n",
            "Recall:  0.44362969752520626\n",
            "F1 Score:  0.5215517241379309\n",
            "roc_auc_score:  0.7041463376962048\n",
            "==========================================================================================\n"
          ]
        }
      ],
      "source": [
        "# Import Gradient Boosting Machine algoritham in envirnoment\n",
        "from sklearn.ensemble import GradientBoostingClassifier\n",
        "\n",
        "## Fitting Gradient Boosting Machine model to training set using cross validation\n",
        "\n",
        "# Defining param_dict\n",
        "param_grid = {'n_estimators':[50,80,100],\n",
        "              'max_depth':[4,6,8],\n",
        "              'min_samples_split':[50,100,150],\n",
        "              'min_samples_leaf':[40,50]}\n",
        "# Creating instance of Gradient Boosting Machine classifier\n",
        "classifier_gbm = GradientBoostingClassifier( random_state=0)\n",
        "# Fitting model\n",
        "gbm_cv=classification_CV_model(X_train, X_test, y_train, y_test, classifier_gbm, param_grid)"
      ]
    },
    {
      "cell_type": "markdown",
      "source": [
        "## XG Boost (Best)"
      ],
      "metadata": {
        "id": "kCxAift__rZy"
      }
    },
    {
      "cell_type": "code",
      "execution_count": 39,
      "metadata": {
        "colab": {
          "base_uri": "https://localhost:8080/"
        },
        "id": "pwHUtBMdVrSl",
        "outputId": "0826143e-dec3-4692-e3a0-b0c68e8b75d4"
      },
      "outputs": [
        {
          "output_type": "stream",
          "name": "stdout",
          "text": [
            "Fitting 3 folds for each of 54 candidates, totalling 162 fits\n",
            "[15:04:52] WARNING: ../src/learner.cc:767: \n",
            "Parameters: { \"min_samples_leaf\", \"min_samples_split\" } are not used.\n",
            "\n",
            "GridSearchCV(cv=3,\n",
            "             estimator=XGBClassifier(base_score=None, booster=None,\n",
            "                                     callbacks=None, colsample_bylevel=None,\n",
            "                                     colsample_bynode=None,\n",
            "                                     colsample_bytree=None,\n",
            "                                     early_stopping_rounds=None,\n",
            "                                     enable_categorical=False, eval_metric=None,\n",
            "                                     feature_types=None, gamma=None,\n",
            "                                     gpu_id=None, grow_policy=None,\n",
            "                                     importance_type=None,\n",
            "                                     interaction_constraints=None,\n",
            "                                     learning_rate=None,...\n",
            "                                     max_delta_step=None, max_depth=None,\n",
            "                                     max_leaves=None, min_child_weight=None,\n",
            "                                     missing=nan, monotone_constraints=None,\n",
            "                                     n_estimators=100, n_jobs=None,\n",
            "                                     num_parallel_tree=None, predictor=None,\n",
            "                                     random_state=0, ...),\n",
            "             n_jobs=-1,\n",
            "             param_grid={'max_depth': [4, 6, 8], 'min_samples_leaf': [40, 50],\n",
            "                         'min_samples_split': [50, 100, 150],\n",
            "                         'n_estimators': [50, 80, 100]},\n",
            "             scoring='accuracy', verbose=1)\n",
            "==========================================================================================\n",
            "Best parameters: {'max_depth': 4, 'min_samples_leaf': 40, 'min_samples_split': 50, 'n_estimators': 100}\n",
            "Best score: 0.8991097102410972\n",
            "==========================================================================================\n",
            "Training set evaluation result :\n",
            "\n",
            "Confusion Matrix: \n",
            " [[31159   811]\n",
            " [ 1995  2203]]\n",
            "Accuracy:  0.922417606724176\n",
            "Precision:  0.7309223623092236\n",
            "Recall:  0.5247737017627442\n",
            "F1 Score:  0.610926234054354\n",
            "roc_auc_score:  0.7497030848507183\n",
            "\n",
            "-------------------------------\n",
            "\n",
            "Test set evaluation result :\n",
            "\n",
            "Confusion Matrix: \n",
            " [[7678  274]\n",
            " [ 598  493]]\n",
            "Accuracy:  0.9035718235098972\n",
            "Precision:  0.6427640156453716\n",
            "Recall:  0.45187901008249315\n",
            "F1 Score:  0.5306781485468245\n",
            "roc_auc_score:  0.7087111348199187\n",
            "==========================================================================================\n"
          ]
        }
      ],
      "source": [
        "# Import XGBoost algoritham in envirnoment\n",
        "from xgboost import XGBClassifier\n",
        "\n",
        "## Fitting XGBoost model to training set using cross validation\n",
        "\n",
        "# Defining param_dict\n",
        "param_grid = {'n_estimators':[50,80,100],\n",
        "              'max_depth':[4,6,8],\n",
        "              'min_samples_split':[50,100,150],\n",
        "              'min_samples_leaf':[40,50]}\n",
        "# Creating instance of XGBoost classifier\n",
        "classifier_xgb = XGBClassifier(random_state=0)\n",
        "# Fitting model\n",
        "xgb_cv=classification_CV_model(X_train, X_test, y_train, y_test, classifier_xgb, param_grid)"
      ]
    },
    {
      "cell_type": "code",
      "source": [
        "from xgboost import XGBClassifier\n",
        "\n",
        "## Fitting XGBoost model to training set using cross validation\n",
        "\n",
        "# Defining param_dict\n",
        "param_grid = {'n_estimators':[50,80,100],\n",
        "              'max_depth':[4,6,8],\n",
        "              'min_samples_split':[50,100,150],\n",
        "              'min_samples_leaf':[40,50]}\n",
        "# Creating instance of XGBoost classifier\n",
        "classifier_xgb = XGBClassifier(random_state=0)\n",
        "# Fitting model\n",
        "xgb_cv=classification_CV_model(X_train_2, X_test_2, y_train, y_test, classifier_xgb, param_grid)"
      ],
      "metadata": {
        "colab": {
          "base_uri": "https://localhost:8080/"
        },
        "id": "fkH3UHxBC4Fl",
        "outputId": "27c09b43-22e8-44f8-cabb-751224bc09bd"
      },
      "execution_count": 40,
      "outputs": [
        {
          "metadata": {
            "tags": null
          },
          "name": "stdout",
          "output_type": "stream",
          "text": [
            "Fitting 3 folds for each of 54 candidates, totalling 162 fits\n",
            "[15:49:42] WARNING: ../src/learner.cc:767: \n",
            "Parameters: { \"min_samples_leaf\", \"min_samples_split\" } are not used.\n",
            "\n",
            "GridSearchCV(cv=3,\n",
            "             estimator=XGBClassifier(base_score=None, booster=None,\n",
            "                                     callbacks=None, colsample_bylevel=None,\n",
            "                                     colsample_bynode=None,\n",
            "                                     colsample_bytree=None,\n",
            "                                     early_stopping_rounds=None,\n",
            "                                     enable_categorical=False, eval_metric=None,\n",
            "                                     feature_types=None, gamma=None,\n",
            "                                     gpu_id=None, grow_policy=None,\n",
            "                                     importance_type=None,\n",
            "                                     interaction_constraints=None,\n",
            "                                     learning_rate=None,...\n",
            "                                     max_delta_step=None, max_depth=None,\n",
            "                                     max_leaves=None, min_child_weight=None,\n",
            "                                     missing=nan, monotone_constraints=None,\n",
            "                                     n_estimators=100, n_jobs=None,\n",
            "                                     num_parallel_tree=None, predictor=None,\n",
            "                                     random_state=0, ...),\n",
            "             n_jobs=-1,\n",
            "             param_grid={'max_depth': [4, 6, 8], 'min_samples_leaf': [40, 50],\n",
            "                         'min_samples_split': [50, 100, 150],\n",
            "                         'n_estimators': [50, 80, 100]},\n",
            "             scoring='accuracy', verbose=1)\n",
            "==========================================================================================\n",
            "Best parameters: {'max_depth': 4, 'min_samples_leaf': 40, 'min_samples_split': 50, 'n_estimators': 50}\n",
            "Best score: 0.8962065914620659\n",
            "==========================================================================================\n",
            "Training set evaluation result :\n",
            "\n",
            "Confusion Matrix: \n",
            " [[31053   917]\n",
            " [ 2450  1748]]\n",
            "Accuracy:  0.9069066578190665\n",
            "Precision:  0.6559099437148218\n",
            "Recall:  0.4163887565507384\n",
            "F1 Score:  0.5093982223517413\n",
            "roc_auc_score:  0.6938528080532861\n",
            "\n",
            "-------------------------------\n",
            "\n",
            "Test set evaluation result :\n",
            "\n",
            "Confusion Matrix: \n",
            " [[7695  257]\n",
            " [ 648  443]]\n",
            "Accuracy:  0.899922592060157\n",
            "Precision:  0.6328571428571429\n",
            "Recall:  0.4060494958753437\n",
            "F1 Score:  0.49469570072585156\n",
            "roc_auc_score:  0.6868652911972292\n",
            "==========================================================================================\n"
          ]
        }
      ]
    },
    {
      "cell_type": "code",
      "execution_count": 44,
      "metadata": {
        "colab": {
          "base_uri": "https://localhost:8080/"
        },
        "id": "1mFx1WW0bEQL",
        "outputId": "6de790a5-eef3-4e69-be49-741ea0d2f4d4"
      },
      "outputs": [
        {
          "output_type": "stream",
          "name": "stdout",
          "text": [
            "Fitting 3 folds for each of 54 candidates, totalling 162 fits\n",
            "[16:37:25] WARNING: ../src/learner.cc:767: \n",
            "Parameters: { \"min_samples_leaf\", \"min_samples_split\" } are not used.\n",
            "\n",
            "GridSearchCV(cv=3,\n",
            "             estimator=XGBClassifier(base_score=None, booster=None,\n",
            "                                     callbacks=None, colsample_bylevel=None,\n",
            "                                     colsample_bynode=None,\n",
            "                                     colsample_bytree=None,\n",
            "                                     early_stopping_rounds=None,\n",
            "                                     enable_categorical=False, eval_metric=None,\n",
            "                                     feature_types=None, gamma=None,\n",
            "                                     gpu_id=None, grow_policy=None,\n",
            "                                     importance_type=None,\n",
            "                                     interaction_constraints=None,\n",
            "                                     learning_rate=None,...\n",
            "                                     max_delta_step=None, max_depth=None,\n",
            "                                     max_leaves=None, min_child_weight=None,\n",
            "                                     missing=nan, monotone_constraints=None,\n",
            "                                     n_estimators=100, n_jobs=None,\n",
            "                                     num_parallel_tree=None, predictor=None,\n",
            "                                     random_state=0, ...),\n",
            "             n_jobs=-1,\n",
            "             param_grid={'max_depth': [4, 6, 8], 'min_samples_leaf': [40, 50],\n",
            "                         'min_samples_split': [50, 100, 150],\n",
            "                         'n_estimators': [50, 80, 100]},\n",
            "             scoring='accuracy', verbose=1)\n",
            "==========================================================================================\n",
            "Best parameters: {'max_depth': 8, 'min_samples_leaf': 40, 'min_samples_split': 50, 'n_estimators': 50}\n",
            "Best score: 0.9131230364786421\n",
            "==========================================================================================\n",
            "Training set evaluation result :\n",
            "\n",
            "Confusion Matrix: \n",
            " [[31057   913]\n",
            " [ 1132 30838]]\n",
            "Accuracy:  0.968016890835158\n",
            "Precision:  0.9712450001574754\n",
            "Recall:  0.964591804817016\n",
            "F1 Score:  0.967906969444924\n",
            "roc_auc_score:  0.968016890835158\n",
            "\n",
            "-------------------------------\n",
            "\n",
            "Test set evaluation result :\n",
            "\n",
            "Confusion Matrix: \n",
            " [[7504  448]\n",
            " [ 509  582]]\n",
            "Accuracy:  0.8941722879575362\n",
            "Precision:  0.5650485436893203\n",
            "Recall:  0.5334555453712191\n",
            "F1 Score:  0.5487977369165487\n",
            "roc_auc_score:  0.7385587586011025\n",
            "==========================================================================================\n"
          ]
        }
      ],
      "source": [
        "from xgboost import XGBClassifier\n",
        "\n",
        "## Fitting XGBoost model to training set using cross validation\n",
        "\n",
        "# Defining param_dict\n",
        "param_grid = {'n_estimators':[50,80,100],\n",
        "              'max_depth':[4,6,8],\n",
        "              'min_samples_split':[50,100,150],\n",
        "              'min_samples_leaf':[40,50]}\n",
        "# Creating instance of XGBoost classifier\n",
        "classifier_xgb = XGBClassifier(random_state=0)\n",
        "# Fitting model\n",
        "xgb_cv=classification_CV_model(x_smote, X_test, y_smote, y_test, classifier_xgb, param_grid)"
      ]
    },
    {
      "cell_type": "code",
      "source": [
        "from xgboost import XGBClassifier\n",
        "\n",
        "## Fitting XGBoost model to training set using cross validation\n",
        "\n",
        "# Defining param_dict\n",
        "param_grid = {'n_estimators':[50,80,100],\n",
        "              'max_depth':[4,6,8],\n",
        "              'min_samples_split':[50,100,150],\n",
        "              'min_samples_leaf':[40,50]}\n",
        "# Creating instance of XGBoost classifier\n",
        "classifier_xgb = XGBClassifier(random_state=0)\n",
        "# Fitting model\n",
        "xgb_cv=classification_CV_model(x_smote_2, X_test_2, y_smote_2, y_test, classifier_xgb, param_grid)"
      ],
      "metadata": {
        "colab": {
          "base_uri": "https://localhost:8080/"
        },
        "id": "AChORq_gDBdr",
        "outputId": "40daa2e1-c70c-440a-e2e5-65acc14dc262"
      },
      "execution_count": 45,
      "outputs": [
        {
          "output_type": "stream",
          "name": "stdout",
          "text": [
            "Fitting 3 folds for each of 54 candidates, totalling 162 fits\n",
            "[16:55:49] WARNING: ../src/learner.cc:767: \n",
            "Parameters: { \"min_samples_leaf\", \"min_samples_split\" } are not used.\n",
            "\n",
            "GridSearchCV(cv=3,\n",
            "             estimator=XGBClassifier(base_score=None, booster=None,\n",
            "                                     callbacks=None, colsample_bylevel=None,\n",
            "                                     colsample_bynode=None,\n",
            "                                     colsample_bytree=None,\n",
            "                                     early_stopping_rounds=None,\n",
            "                                     enable_categorical=False, eval_metric=None,\n",
            "                                     feature_types=None, gamma=None,\n",
            "                                     gpu_id=None, grow_policy=None,\n",
            "                                     importance_type=None,\n",
            "                                     interaction_constraints=None,\n",
            "                                     learning_rate=None,...\n",
            "                                     max_delta_step=None, max_depth=None,\n",
            "                                     max_leaves=None, min_child_weight=None,\n",
            "                                     missing=nan, monotone_constraints=None,\n",
            "                                     n_estimators=100, n_jobs=None,\n",
            "                                     num_parallel_tree=None, predictor=None,\n",
            "                                     random_state=0, ...),\n",
            "             n_jobs=-1,\n",
            "             param_grid={'max_depth': [4, 6, 8], 'min_samples_leaf': [40, 50],\n",
            "                         'min_samples_split': [50, 100, 150],\n",
            "                         'n_estimators': [50, 80, 100]},\n",
            "             scoring='accuracy', verbose=1)\n",
            "==========================================================================================\n",
            "Best parameters: {'max_depth': 8, 'min_samples_leaf': 40, 'min_samples_split': 50, 'n_estimators': 100}\n",
            "Best score: 0.9085716122736113\n",
            "==========================================================================================\n",
            "Training set evaluation result :\n",
            "\n",
            "Confusion Matrix: \n",
            " [[30699  1271]\n",
            " [ 1177 30793]]\n",
            "Accuracy:  0.9617141069752894\n",
            "Precision:  0.9603605289421158\n",
            "Recall:  0.9631842352205192\n",
            "F1 Score:  0.9617703095230657\n",
            "roc_auc_score:  0.9617141069752893\n",
            "\n",
            "-------------------------------\n",
            "\n",
            "Test set evaluation result :\n",
            "\n",
            "Confusion Matrix: \n",
            " [[7314  638]\n",
            " [ 472  619]]\n",
            "Accuracy:  0.8772531239632865\n",
            "Precision:  0.492442322991249\n",
            "Recall:  0.5673693858845096\n",
            "F1 Score:  0.5272572402044293\n",
            "roc_auc_score:  0.7435689987772648\n",
            "==========================================================================================\n"
          ]
        }
      ]
    },
    {
      "cell_type": "code",
      "source": [],
      "metadata": {
        "id": "APMt6cFHYwem"
      },
      "execution_count": null,
      "outputs": []
    }
  ],
  "metadata": {
    "colab": {
      "provenance": [],
      "toc_visible": true
    },
    "kernelspec": {
      "display_name": "Python 3",
      "name": "python3"
    },
    "language_info": {
      "name": "python"
    }
  },
  "nbformat": 4,
  "nbformat_minor": 0
}